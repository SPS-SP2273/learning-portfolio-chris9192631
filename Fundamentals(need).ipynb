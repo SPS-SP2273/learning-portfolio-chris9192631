{
 "cells": [
  {
   "cell_type": "code",
   "execution_count": 3,
   "id": "972b1e43-85f4-467a-9c3e-9b7eae9ff124",
   "metadata": {},
   "outputs": [
    {
     "data": {
      "text/plain": [
       "15"
      ]
     },
     "execution_count": 3,
     "metadata": {},
     "output_type": "execute_result"
    }
   ],
   "source": [
    "(1+2)*5 #using normal brackets for math"
   ]
  },
  {
   "cell_type": "code",
   "execution_count": 11,
   "id": "214f0ae0-de1e-4192-ba3a-192a10597e25",
   "metadata": {},
   "outputs": [
    {
     "name": "stdout",
     "output_type": "stream",
     "text": [
      "[1, 2, 3, 4, 5]\n"
     ]
    }
   ],
   "source": [
    "py_list = [1,2,3,4,5] #a 1 dimensional list\n",
    "\n",
    "print(py_list)"
   ]
  },
  {
   "cell_type": "code",
   "execution_count": 10,
   "id": "19340bf1-a760-402e-91d7-b387499427c9",
   "metadata": {},
   "outputs": [
    {
     "name": "stdout",
     "output_type": "stream",
     "text": [
      "[[1, 'A'], [2, 'B'], [3, 'C'], [4, 'D']]\n"
     ]
    }
   ],
   "source": [
    "py_list = [    #2d list\n",
    "    [1,\"A\"],\n",
    "    [2,\"B\"],\n",
    "    [3,\"C\"],\n",
    "    [4,\"D\"]\n",
    "]\n",
    "\n",
    "print(py_list)"
   ]
  },
  {
   "cell_type": "code",
   "execution_count": 13,
   "id": "785a25b7-d00a-4fe9-a29a-af714652eed7",
   "metadata": {},
   "outputs": [
    {
     "name": "stdout",
     "output_type": "stream",
     "text": [
      "{'Name': 'Batman', 'Real Name': 'Bruce Wayne', 'Affiliation': 'Justice League', 'Universe': 'DC'}\n",
      "Bruce Wayne\n"
     ]
    }
   ],
   "source": [
    "personal_info = {\n",
    "    'Name': 'Batman',\n",
    "    'Real Name': 'Bruce Wayne',\n",
    "    'Affiliation': 'Justice League',\n",
    "    'Universe':'DC'\n",
    "}\n",
    "\n",
    "print(personal_info)\n",
    "\n",
    "print(personal_info['Real Name'])"
   ]
  },
  {
   "cell_type": "code",
   "execution_count": 21,
   "id": "9c62c7f1-0e53-4812-adb5-1e7a06c19356",
   "metadata": {},
   "outputs": [
    {
     "data": {
      "text/plain": [
       "40.5"
      ]
     },
     "execution_count": 21,
     "metadata": {},
     "output_type": "execute_result"
    }
   ],
   "source": [
    "#let me try \n",
    "1*((2-3)+4) ** 5 / 6"
   ]
  },
  {
   "cell_type": "markdown",
   "id": "213b1af6-b03b-469c-9b28-33a0f184e786",
   "metadata": {},
   "source": [
    "1*[(2-3)+4){\\sup}5 \\frac\n",
    "\n",
    "idk how to use markdown"
   ]
  },
  {
   "cell_type": "code",
   "execution_count": null,
   "id": "5089ff8f-5434-4de0-8aa9-4dc5852c6ec5",
   "metadata": {},
   "outputs": [],
   "source": [
    "import math"
   ]
  },
  {
   "cell_type": "code",
   "execution_count": null,
   "id": "90bb18d0-497c-4054-b206-4b07ac6fe024",
   "metadata": {},
   "outputs": [],
   "source": []
  }
 ],
 "metadata": {
  "kernelspec": {
   "display_name": "base",
   "language": "python",
   "name": "python3"
  },
  "language_info": {
   "codemirror_mode": {
    "name": "ipython",
    "version": 3
   },
   "file_extension": ".py",
   "mimetype": "text/x-python",
   "name": "python",
   "nbconvert_exporter": "python",
   "pygments_lexer": "ipython3",
   "version": "3.13.5"
  }
 },
 "nbformat": 4,
 "nbformat_minor": 5
}
