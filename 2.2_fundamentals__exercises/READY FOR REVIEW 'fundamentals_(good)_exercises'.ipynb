{
 "cells": [
  {
   "attachments": {},
   "cell_type": "markdown",
   "id": "123456",
   "metadata": {},
   "source": [
    "<div style=\"text-align:left;font-size:2em\"><span style=\"font-weight:bolder;font-size:1.25em\">SP2273 | Learning Portfolio</span><br><br><span style=\"font-weight:bold;color:darkred\">Fundamentals (Good) Exercises</span></div>"
   ]
  },
  {
   "cell_type": "markdown",
   "id": "7f3576df",
   "metadata": {},
   "source": [
    "**Exercise 1 (f-strings to the rescue)**"
   ]
  },
  {
   "cell_type": "code",
   "execution_count": 1,
   "id": "c9e9c5a2",
   "metadata": {},
   "outputs": [
    {
     "name": "stdout",
     "output_type": "stream",
     "text": [
      "\"How you doin \u001b[1mCHRISTEN\u001b[0m!\"\n"
     ]
    }
   ],
   "source": [
    "user_input = input(\"Yo, what is your name? \")\n",
    "\n",
    "print(f'\"How you doin \\033[1m{user_input.upper()}\\033[0m!\"')"
   ]
  },
  {
   "cell_type": "code",
   "execution_count": 5,
   "id": "85d1469b",
   "metadata": {},
   "outputs": [
    {
     "name": "stdout",
     "output_type": "stream",
     "text": [
      "\"My name is christen and I am 19 years old.\"\n"
     ]
    }
   ],
   "source": [
    "name = input(\"What is your name? \")\n",
    "age = input(\"What is your age? \")\n",
    "\n",
    "print (f'\"My name is {name} and I am {age} years old.\"')"
   ]
  },
  {
   "cell_type": "code",
   "execution_count": 23,
   "id": "efece5b2",
   "metadata": {},
   "outputs": [
    {
     "name": "stdout",
     "output_type": "stream",
     "text": [
      "The value of pi to 2 decimal places is: 3.14\n",
      "The value of pi to 3 decimal places is: 3.142\n",
      "The value of pi to 4 decimal places is: 3.1416\n"
     ]
    }
   ],
   "source": [
    "pi = 3.141592653589793\n",
    "\n",
    "print(f'The value of pi to 2 decimal places is: {pi:.2f}')\n",
    "print(f'The value of pi to 3 decimal places is: {pi:.3f}')\n",
    "print(f'The value of pi to 4 decimal places is: {pi:.4f}')\n"
   ]
  },
  {
   "cell_type": "code",
   "execution_count": 42,
   "id": "e5d95015",
   "metadata": {},
   "outputs": [
    {
     "name": "stdout",
     "output_type": "stream",
     "text": [
      "Apple      $ 0.99\n",
      "Banana     $ 0.99\n",
      "Orange     $ 0.99\n"
     ]
    }
   ],
   "source": [
    "Apple = \"$ 0.99\"\n",
    "Banana = \"$ 0.59\"\n",
    "Orange = \"$ 1.29\"\n",
    "\n",
    "#formatting text: names take up 10 spaces, then one blank, then $, then 5 spaces of number\n",
    "print(f'Apple {Apple:>11}')\n",
    "print(f'Banana {Apple:>10}')\n",
    "print(f'Orange {Apple:>10}')\n"
   ]
  },
  {
   "cell_type": "markdown",
   "id": "a75c5575",
   "metadata": {},
   "source": [
    "**Exercise 2 (What is your grade?)**"
   ]
  },
  {
   "cell_type": "markdown",
   "id": "8bc9877e",
   "metadata": {},
   "source": [
    "Write a Python program that takes a numerical grade (0-100) as input and outputs the corresponding letter grade based on the following criteria:\n",
    "\n",
    "(Ensure your program handles unexpected inputs gracefully and displays a relevant error message.)"
   ]
  },
  {
   "cell_type": "markdown",
   "id": "413d969a",
   "metadata": {},
   "source": [
    "| **Grade**  | **Score Range**  |\n",
    "|---|---|\n",
    "| A  | 70-100  |\n",
    "| B | 50-69  |\n",
    "| C  | 35-49  |\n",
    "| Fail  | 0-34  |"
   ]
  },
  {
   "cell_type": "code",
   "execution_count": null,
   "id": "6c15f4e1",
   "metadata": {},
   "outputs": [
    {
     "name": "stdout",
     "output_type": "stream",
     "text": [
      "Integer number please!\n"
     ]
    }
   ],
   "source": [
    "try:\n",
    "    score = input(\"Enter the student's numerical grade: \")\n",
    "    if 70<= int(score) <= 100:\n",
    "        print(\"The student's letter grade is: A\")\n",
    "    elif 50<=int(score)<=69:\n",
    "        print(\"The student's letter grade is: B\")\n",
    "    elif 35<=int(score)<=49:\n",
    "        print(\"The student's letter grade is: C\")\n",
    "    else:\n",
    "        print(\"The student's grade grade is: Fail\")\n",
    "\n",
    "except:\n",
    "\n",
    "    print(\"Integer number please!\")\n",
    "\n"
   ]
  },
  {
   "cell_type": "code",
   "execution_count": 2,
   "id": "a0e0ff81",
   "metadata": {},
   "outputs": [
    {
     "name": "stdout",
     "output_type": "stream",
     "text": [
      "Integer number please!\n"
     ]
    }
   ],
   "source": [
    "score = input(\"Enter the student's numerical grade: \")\n",
    "\n",
    "\n",
    "if score == type(int): \n",
    "    if 70<= int(score) <= 100:\n",
    "        print(\"The student's letter grade is: A\")\n",
    "    elif 50<=int(score)<=69:\n",
    "        print(\"The student's letter grade is: B\")\n",
    "    elif 35<=int(score)<=49:\n",
    "        print(\"The student's letter grade is: C\")\n",
    "    else:\n",
    "        print(\"The student's grade grade is: Fail\")\n",
    "        \n",
    "else:\n",
    "    print(\"Integer number please!\")\n",
    "\n",
    "\n",
    "# why is it not working\n"
   ]
  },
  {
   "cell_type": "code",
   "execution_count": null,
   "id": "e9d1239f",
   "metadata": {},
   "outputs": [
    {
     "ename": "SyntaxError",
     "evalue": "'break' outside loop (4081754564.py, line 6)",
     "output_type": "error",
     "traceback": [
      "  \u001b[36mCell\u001b[39m\u001b[36m \u001b[39m\u001b[32mIn[56]\u001b[39m\u001b[32m, line 6\u001b[39m\n\u001b[31m    \u001b[39m\u001b[31mbreak\u001b[39m\n    ^\n\u001b[31mSyntaxError\u001b[39m\u001b[31m:\u001b[39m 'break' outside loop\n"
     ]
    }
   ],
   "source": [
    "score = input(\"Enter the student's numerical grade: \")\n",
    "\n",
    "isinstance(score,int)\n",
    "\n",
    "# isinstance is prefrred as it can handle inheritance hierachies (subclasses)\n",
    "\n",
    "\n",
    "    print(\"Integer Number Please!\")\n",
    "\n",
    "else:\n",
    "    if 70<= int(score) <= 100:\n",
    "        print(\"The student's letter grade is: A\")\n",
    "    elif 50<=int(score)<=69:\n",
    "        print(\"The student's letter grade is: B\")\n",
    "    elif 35<=int(score)<=49:\n",
    "        print(\"The student's letter grade is: C\")\n",
    "    else:\n",
    "        print(\"The student's grade grade is: Fail\")\n",
    "    \n",
    "\n",
    "\n"
   ]
  },
  {
   "cell_type": "markdown",
   "id": "82bac4f5",
   "metadata": {},
   "source": [
    "Do I need to use purely what I learnt in this chapter to do this? Does not seem very advisable from what I saw scrolling the forums\n",
    "\n"
   ]
  },
  {
   "cell_type": "markdown",
   "id": "924c21db",
   "metadata": {},
   "source": [
    "**Exercise 3 (Debugging Code)**\n",
    "The code below shows a Python function that calculates the factorial of a given number. However, there are three errors. Your task is to identify and fix the errors, complete the code, and ensure it runs correctly.\n",
    "\n",
    "Yes! You do not yet know what functions are and how loops work. But the errors in the code are related to what we just discussed!"
   ]
  },
  {
   "cell_type": "code",
   "execution_count": 79,
   "id": "aa4aef03",
   "metadata": {},
   "outputs": [
    {
     "name": "stdout",
     "output_type": "stream",
     "text": [
      "120\n",
      "Invalid input\n"
     ]
    }
   ],
   "source": [
    "def factorial(n):\n",
    "    if n < 0: #negative numbers factorial not defined\n",
    "        return \"Invalid input\"\n",
    "    elif n == 0:   #0 factorial is 1\n",
    "        return 1\n",
    "    else:\n",
    "        result = 1\n",
    "        for number in range(1, n+1):  #stop is exclusive\n",
    "            result *= number #change to multiply because factorial \n",
    "        return result\n",
    "\n",
    "\n",
    "print(factorial(5))   # Testing, expected output: 120\n",
    "print(factorial(-1))  # Testing, expected output: Invalid input"
   ]
  }
 ],
 "metadata": {
  "kernelspec": {
   "display_name": "base",
   "language": "python",
   "name": "python3"
  },
  "language_info": {
   "codemirror_mode": {
    "name": "ipython",
    "version": 3
   },
   "file_extension": ".py",
   "mimetype": "text/x-python",
   "name": "python",
   "nbconvert_exporter": "python",
   "pygments_lexer": "ipython3",
   "version": "3.13.5"
  },
  "toc": {
   "base_numbering": 1,
   "nav_menu": {},
   "number_sections": true,
   "sideBar": true,
   "skip_h1_title": false,
   "title_cell": "Table of Contents",
   "title_sidebar": "Contents",
   "toc_cell": false,
   "toc_position": {},
   "toc_section_display": true,
   "toc_window_display": false
  }
 },
 "nbformat": 4,
 "nbformat_minor": 5
}
