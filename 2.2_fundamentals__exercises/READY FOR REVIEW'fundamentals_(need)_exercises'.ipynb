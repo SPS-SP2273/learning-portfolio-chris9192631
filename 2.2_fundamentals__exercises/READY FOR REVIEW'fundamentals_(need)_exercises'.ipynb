{
 "cells": [
  {
   "attachments": {},
   "cell_type": "markdown",
   "id": "123456",
   "metadata": {},
   "source": [
    "<div style=\"text-align:left;font-size:2em\"><span style=\"font-weight:bolder;font-size:1.25em\">SP2273 | Learning Portfolio</span><br><br><span style=\"font-weight:bold;color:darkred\">Fundamentals (Need) Exercises</span></div>"
   ]
  },
  {
   "cell_type": "markdown",
   "id": "5f773330",
   "metadata": {},
   "source": [
    "**Exercise 1 (Total recall?)**\n",
    "1. Purely from memory, list as many of the basic Python features I mentioned in my notes as you remember.\n",
    "Use a Markdown cell for this list.\n",
    "2. Now, visit the notes and complete the list with the ones you missed.\n",
    "Indicate those you missed by putting them in italics."
   ]
  },
  {
   "cell_type": "markdown",
   "id": "c061c925",
   "metadata": {},
   "source": [
    "1. \n",
    "- _Functions_ : _instructions using a syntax that a programming language understands._\n",
    "- _Python allows for comments to be written in the code._\n",
    "- Python is _case_ sensitive (cannot randomly capitalise commands)\n",
    "- Python goes through the code line by line? So it will run the code until there is an error rather than not running right off the bat. \\\\ _Python is interpreted, and will work one command at a time._  \n",
    "\n",
    "- Python uses if/else flow commands. \\\\ _\"if\" can be used to branch the flow of the programme._\n",
    "- Python uses full stops to format things. \\\\ _Python actually uses the dot to indicate ownership, like how the sqrt function belongs to the math module._\n",
    "- _In Python, = is not the same as ==. The former is used to set something as equal, while the == is used to check if something is equal._\n",
    "- _Identations are very important as it will affect how the code runs, especially when a command is used._\n",
    "- _Using quotation marks around a word will make it a string, while not using quotation marks and using the equal sign to assign it a value will make it a variable._\n",
    "-\n",
    "| _**Brackets are important in python**_  |  _**Function**_   | \n",
    "| :---              | :--:         | \n",
    "| _Round brackets_   |   _Math and in calls to functions_  |\n",
    "| _Square brackets_    |  _Lists of data_ |\n",
    "| _Curly brackets_     |  _Store data in a dictionary_  |\n",
    "\n",
    "- _Import packages to expand the array of things that Python can do. Different packages may also have slightly different functions._\n",
    "\n",
    "\n"
   ]
  },
  {
   "cell_type": "markdown",
   "id": "a93c0dae",
   "metadata": {},
   "source": [
    "**Exercise 2 (Debug me)**"
   ]
  },
  {
   "cell_type": "code",
   "execution_count": 25,
   "id": "981ebd15",
   "metadata": {},
   "outputs": [
    {
     "ename": "IndentationError",
     "evalue": "unindent does not match any outer indentation level (<string>, line 3)",
     "output_type": "error",
     "traceback": [
      "  \u001b[36mFile \u001b[39m\u001b[32m<string>:3\u001b[39m\n\u001b[31m    \u001b[39m\u001b[31mPrint(x, y, z)\u001b[39m\n                  ^\n\u001b[31mIndentationError\u001b[39m\u001b[31m:\u001b[39m unindent does not match any outer indentation level\n"
     ]
    }
   ],
   "source": [
    "x, y = 3, 4\n",
    "        z = sqrt(x*2 + y**2)\n",
    "    Print(x, y, z)"
   ]
  },
  {
   "cell_type": "code",
   "execution_count": 3,
   "id": "c1775190",
   "metadata": {},
   "outputs": [],
   "source": [
    "import numpy as np"
   ]
  },
  {
   "cell_type": "code",
   "execution_count": 26,
   "id": "e03560f4",
   "metadata": {},
   "outputs": [
    {
     "name": "stdout",
     "output_type": "stream",
     "text": [
      "3 4 5\n"
     ]
    }
   ],
   "source": [
    "x, y = 3, 4\n",
    "z = int(np.sqrt(x**2 + y**2))\n",
    "print(x, y, z)"
   ]
  },
  {
   "cell_type": "markdown",
   "id": "53a113ed",
   "metadata": {},
   "source": [
    "**Exercise 3 (In your own words)**"
   ]
  },
  {
   "cell_type": "markdown",
   "id": "d27b09ca",
   "metadata": {},
   "source": [
    "Using your own words, write a single sentence to describe what each of the following means or the role they serve in Python.\n",
    "\n",
    "Please use a Markdown table for this.\n",
    "\n",
    "\n",
    "| # | Term  |  Description |\n",
    "|---|---|---|\n",
    "| 1 | Functions | Function is an instruction to the programming language that it can understand and act on.  |\n",
    "| 2  | Arguments  | It is the code in the bracket of a function, indicating to the programming language what to run the command on. |\n",
    "| 3 | Comments  | Comments are used to explain in human language what a code means so it is easier to go back to it after some time.  |\n",
    "| 4 | Indentations  | Python uses indentations to know how to read the code, especially when functions are used.  |\n",
    "| 5 | Packages  | Packages have different uses and can be installed to enhance the uses of Python.  |\n",
    "| 6 | .  | A fullstop is used to indicate ownership of something, like to a package.  |\n",
    "| 7 | :  | A colon is used to end a flow function line so the next line will be indented and a new \"flow\" or chain of code is created.  |\n",
    "| 8 | [] | A single square bracket is used to create a list. |\n",
    "| 9 | [[],[]]  | Double square brackets are used to create a 2D list.  |\n",
    "| 10 | {}  | Curly brackets are used to create a dictionary, which is used to store information for access in the future.  |\n",
    "\n",
    "\n",
    "1 Functions can also be a block of instructions (whatever lines of code you want the function to execute.)\n",
    "\n",
    "4. identations indicate hierachy and a visual representation of nesting that makes Python more readable to us\n",
    "\n",
    "\n",
    "5. Packages contain pre-defined functions and codes"
   ]
  },
  {
   "cell_type": "markdown",
   "id": "8470a3b4",
   "metadata": {},
   "source": [
    "**Exercise 4 (More than one way to divide)**"
   ]
  },
  {
   "cell_type": "markdown",
   "id": "8c3bde19",
   "metadata": {},
   "source": [
    "Programming languages usually offer multiple options for dividing one number by another. \n",
    "Shown below are three such options. \n",
    "\n",
    "Either by observation (i.e., trial and error), Googling or discussing with a friend, figure out what each one does.\n",
    "\n",
    "I recommended the trial and error approach first so that you get a feel for how to use Python.\n",
    "Indicate your answer by writing a comment."
   ]
  },
  {
   "cell_type": "code",
   "execution_count": 22,
   "id": "fd87c08c",
   "metadata": {},
   "outputs": [
    {
     "data": {
      "text/plain": [
       "2.5"
      ]
     },
     "execution_count": 22,
     "metadata": {},
     "output_type": "execute_result"
    }
   ],
   "source": [
    "5/2          # I divide the first number by the second number and return the value in decimal form\n",
    "#In the case of more than 3 numbers, it will be sequentially divided from right to left"
   ]
  },
  {
   "cell_type": "code",
   "execution_count": 19,
   "id": "91f52fc4",
   "metadata": {},
   "outputs": [
    {
     "data": {
      "text/plain": [
       "2"
      ]
     },
     "execution_count": 19,
     "metadata": {},
     "output_type": "execute_result"
    }
   ],
   "source": [
    "5//2          # I divide the first number by the second number and return the quotient"
   ]
  },
  {
   "cell_type": "code",
   "execution_count": 21,
   "id": "a21a42e9",
   "metadata": {},
   "outputs": [
    {
     "data": {
      "text/plain": [
       "1"
      ]
     },
     "execution_count": 21,
     "metadata": {},
     "output_type": "execute_result"
    }
   ],
   "source": [
    "5%2           # I divide the first number by the second number and return the remainder"
   ]
  }
 ],
 "metadata": {
  "kernelspec": {
   "display_name": "base",
   "language": "python",
   "name": "python3"
  },
  "language_info": {
   "codemirror_mode": {
    "name": "ipython",
    "version": 3
   },
   "file_extension": ".py",
   "mimetype": "text/x-python",
   "name": "python",
   "nbconvert_exporter": "python",
   "pygments_lexer": "ipython3",
   "version": "3.13.5"
  },
  "toc": {
   "base_numbering": 1,
   "nav_menu": {},
   "number_sections": true,
   "sideBar": true,
   "skip_h1_title": false,
   "title_cell": "Table of Contents",
   "title_sidebar": "Contents",
   "toc_cell": false,
   "toc_position": {},
   "toc_section_display": true,
   "toc_window_display": false
  }
 },
 "nbformat": 4,
 "nbformat_minor": 5
}
