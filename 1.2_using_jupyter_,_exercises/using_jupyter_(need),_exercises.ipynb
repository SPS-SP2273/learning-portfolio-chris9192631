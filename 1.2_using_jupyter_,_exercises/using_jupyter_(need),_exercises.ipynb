{
 "cells": [
  {
   "attachments": {},
   "cell_type": "markdown",
   "id": "123456",
   "metadata": {},
   "source": [
    "<div style=\"text-align:left;font-size:2em\"><span style=\"font-weight:bolder;font-size:1.25em\">SP2273 | Learning Portfolio</span><br><br><span style=\"font-weight:bold;color:darkred\">Using Jupyter (Need), Exercises</span></div>"
   ]
  },
  {
   "attachments": {},
   "cell_type": "markdown",
   "id": "1855e1ea",
   "metadata": {},
   "source": [
    "## 1 Quadratic Equations"
   ]
  },
  {
   "attachments": {},
   "cell_type": "markdown",
   "id": "bdec5b29",
   "metadata": {},
   "source": [
    "### **Introduction**"
   ]
  },
  {
   "cell_type": "markdown",
   "id": "6bed79d5-ca9a-43d8-825e-5e89233cae9c",
   "metadata": {},
   "source": [
    "\n",
    "![](https://upload.wikimedia.org/wikipedia/commons/thumb/f/f8/Polynomialdeg2.svg/300px-Polynomialdeg2.svg.png)\n",
    "\n",
    "\n",
    "(Image from the [Wikipedia page on Quadratic equations](https://en.wikipedia.org/wiki/Quadratic_equation) )\n",
    "\n",
    "The general form of a quadratic equation is:\n",
    "\n",
    "$$ax^2+bx+c = 0$$"
   ]
  },
  {
   "attachments": {},
   "cell_type": "markdown",
   "id": "b67be829",
   "metadata": {},
   "source": [
    "### **Solutions**"
   ]
  },
  {
   "cell_type": "markdown",
   "id": "84ec61b0",
   "metadata": {},
   "source": [
    "Provided $a \\ne 0$, we can use an elementary algebraic method called [completing the square](https://en.wikipedia.org/wiki/Completing_the_square) to show that a quadratic equation has the following solution:\n",
    "$$\n",
    "x = \\dfrac{-b \\pm \\sqrt{b^2 - 4ac}}{2a}\n",
    "$$"
   ]
  },
  {
   "attachments": {},
   "cell_type": "markdown",
   "id": "b2d5afb1",
   "metadata": {},
   "source": [
    "### **Discriminant**"
   ]
  },
  {
   "cell_type": "markdown",
   "id": "e945ffdf",
   "metadata": {},
   "source": [
    "The quantity $\\Delta = b^2 -  4ac$ is called the **discriminant** of the equation and decides the nature of its solutions. The table below shows the various possibilities. \n",
    "\n",
    "| **Discriminant**  |  **Roots**   | \n",
    "| :---              | :--:         | \n",
    "| $\\Delta = b^2 -  4ac = 0$   |  A single solution of $-b/(2a)$  |\n",
    "| $\\Delta = b^2 -  4ac \\gt 0$    |  Two distinct solutions |\n",
    "| $\\Delta = b^2 -  4ac \\lt 0$     |  No real solutions; both are complex  |"
   ]
  },
  {
   "cell_type": "markdown",
   "id": "67257120",
   "metadata": {},
   "source": [
    "Exercise 2 (In Your Own Words) In your own words, use a Markdown cell to answer the following question.\n",
    "\n",
    "If you are unsure of the answer, please first consult with an instructor or a friend. Only then should you use the internet for additional information\n",
    "\n",
    "1. What is a Git repository?\n",
    "A git repository is something to file and store your coding files/other file types like text and upload it online for people to see and collaborate.\n",
    "\n",
    "2. Git keeps track of ____BLANK____ in the files in our repository.\n",
    "Changes\n",
    "\n",
    "3. What is a commit?\n",
    "A commit is something you do to ensure your saved changes are saved to your local github desktop.\n",
    "\n",
    "4. What is a push?\n",
    "A push is something that ensures saved changes on your local file are uploaded to the online repository.\n",
    "\n",
    "5. What is a pull?\n",
    "A pull is something where you save online feedback/changes from your online repository to your local desktop so you can work on it. \n",
    "\n",
    "6. What is the difference between GitHub and GitHub Desktop?\n",
    "Github is a Graphical User Interface that helps act as the bridge between the online github repository and your code on your local machine. "
   ]
  },
  {
   "cell_type": "markdown",
   "id": "1d05c37d",
   "metadata": {},
   "source": [
    "Exercise 3 (A Matter of Statistics)"
   ]
  },
  {
   "cell_type": "markdown",
   "id": "062c0683",
   "metadata": {},
   "source": [
    "$\\mu$ = $\\dfrac{1}{n}$ $\\sum_{i=1}^{n} x_i$\n",
    "\n",
    "$\\sigma$ = $\\sqrt{\\dfrac{1}{n} \\sum_{i=1}^{n} (x_i - \\mu)^2}$\n",
    "\n",
    "$r$ = $\\dfrac{\\sum_{i=1}^{n} (x_i - \\mu_X) (y_i - \\mu_Y)}{\\sqrt{\\sum_{i=1}^{n} (x_i - \\mu_X)^2 \\sum_{i=1}^{n} (y_i - \\mu_Y)^2} }$\n"
   ]
  }
 ],
 "metadata": {
  "kernelspec": {
   "display_name": "base",
   "language": "python",
   "name": "python3"
  },
  "language_info": {
   "codemirror_mode": {
    "name": "ipython",
    "version": 3
   },
   "file_extension": ".py",
   "mimetype": "text/x-python",
   "name": "python",
   "nbconvert_exporter": "python",
   "pygments_lexer": "ipython3",
   "version": "3.13.5"
  },
  "toc": {
   "base_numbering": 1,
   "nav_menu": {},
   "number_sections": true,
   "sideBar": true,
   "skip_h1_title": false,
   "title_cell": "Table of Contents",
   "title_sidebar": "Contents",
   "toc_cell": false,
   "toc_position": {},
   "toc_section_display": true,
   "toc_window_display": false
  }
 },
 "nbformat": 4,
 "nbformat_minor": 5
}
