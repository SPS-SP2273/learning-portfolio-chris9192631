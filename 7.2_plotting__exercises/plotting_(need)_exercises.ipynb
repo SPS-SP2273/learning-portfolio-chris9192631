{
 "cells": [
  {
   "attachments": {},
   "cell_type": "markdown",
   "id": "123456",
   "metadata": {},
   "source": [
    "<div style=\"text-align:left;font-size:2em\"><span style=\"font-weight:bolder;font-size:1.25em\">SP2273 | Learning Portfolio</span><br><br><span style=\"font-weight:bold;color:darkred\">Plotting (Need) Exercises</span></div>"
   ]
  },
  {
   "cell_type": "markdown",
   "id": "df7bac84",
   "metadata": {},
   "source": [
    "Exercise 1 (Fill in the blanks) \n",
    "Fill in the blanks(indicated with a ?), so the code below will produce the plot shown."
   ]
  },
  {
   "cell_type": "markdown",
   "id": "717e478f",
   "metadata": {},
   "source": [
    "![](https://sps.nus.edu.sg/sp2273/docs/python_basics/07_plotting/__imgs__/plotting_need_exercise-01_solution.png)"
   ]
  },
  {
   "cell_type": "code",
   "execution_count": 2,
   "id": "d4831f1a",
   "metadata": {},
   "outputs": [
    {
     "name": "stdout",
     "output_type": "stream",
     "text": [
      "Using matplotlib backend: module://matplotlib_inline.backend_inline\n"
     ]
    }
   ],
   "source": [
    "matplotlib"
   ]
  },
  {
   "cell_type": "code",
   "execution_count": 5,
   "id": "58b509e8",
   "metadata": {},
   "outputs": [],
   "source": [
    "from matplotlib import pyplot as plt"
   ]
  },
  {
   "cell_type": "code",
   "execution_count": null,
   "id": "d0587696",
   "metadata": {},
   "outputs": [],
   "source": [
    "# Some data for plotting\n",
    "x = [0, 1, 2, 3, 4, 5]\n",
    "y = [0, 4, 8, 12, 16, 20]\n",
    "y_err = [0.0, 0.5, 1.0, 1.5, 2.0, 2.5]\n",
    "x_err = .25\n",
    "\n",
    "plt.errorbar(x, y, \n",
    "             xerr=?, yerr=?,\n",
    "             color=?, linestyle=?,\n",
    "             marker=?, markerfacecolor=?,\n",
    "             ecolor=?,capsize=5,\n",
    "             label=?)\n",
    "plt.xlabel('x-values')\n",
    "plt.ylabel('y-values')\n",
    "plt.title('X vs Y')\n",
    "plt.grid(alpha=.25)\n",
    "plt.legend(?)\n",
    "plt.show()"
   ]
  },
  {
   "cell_type": "code",
   "execution_count": 8,
   "id": "977ff35c",
   "metadata": {},
   "outputs": [
    {
     "data": {
      "image/png": "[encoded data removed]",
      "text/plain": [
       "<Figure size 640x480 with 1 Axes>"
      ]
     },
     "metadata": {},
     "output_type": "display_data"
    }
   ],
   "source": [
    "# Edited \n",
    "x = [0, 1, 2, 3, 4, 5]\n",
    "y = [0, 4, 8, 12, 16, 20]\n",
    "y_err = [0.0, 0.5, 1.0, 1.5, 2.0, 2.5]\n",
    "x_err = .25\n",
    "\n",
    "plt.errorbar(x, y, \n",
    "             xerr= x_err, yerr= y_err,\n",
    "             color= 'maroon' , linestyle= 'dashed',\n",
    "             marker= 'o', markerfacecolor= 'yellow',\n",
    "             ecolor= 'black',capsize=5,\n",
    "             label= 'Y values with errors')\n",
    "plt.xlabel('x-values')\n",
    "plt.ylabel('y-values')\n",
    "plt.title('X vs Y')\n",
    "plt.grid(alpha=.25)\n",
    "plt.legend(loc = 'lower right')\n",
    "plt.show()"
   ]
  },
  {
   "cell_type": "markdown",
   "id": "eef7150a",
   "metadata": {},
   "source": [
    "Exercise 2 (A simple mathematical plot)  "
   ]
  },
  {
   "cell_type": "markdown",
   "id": "d3649d16",
   "metadata": {},
   "source": [
    "Use NumPy to generate $x$ and $y$ data suitable for plotting the graph of the function:\n",
    "\n",
    "for values of $x$ in the range 0 to 50. \n",
    "\n",
    "Customise your plot so that:\n",
    "\n",
    "The x and y axes have labels of fontsize of 15\n",
    "\n",
    "The x and y axes labels are in the color, darkorange.\n",
    "\n",
    "There is a grid with an opacity of 25%.\n",
    "\n",
    "Indicate the equation of the function in the title with a font size of 20.\n",
    "\n",
    "Hint: Look at Writing mathematical expressions in Matplotlib.\n",
    "\n",
    "Change the $y$ limit (using ylim) to [-1,1]\n",
    "\n",
    "In the end, your plot should look like the one shown alongside."
   ]
  },
  {
   "cell_type": "markdown",
   "id": "9848c042",
   "metadata": {},
   "source": [
    "![](https://sps.nus.edu.sg/sp2273/docs/python_basics/07_plotting/__imgs__/plotting_need_exercise-02_solution.png)"
   ]
  },
  {
   "cell_type": "code",
   "execution_count": 11,
   "id": "65e80a27",
   "metadata": {},
   "outputs": [],
   "source": [
    "import numpy as np"
   ]
  },
  {
   "cell_type": "code",
   "execution_count": 26,
   "id": "93dbf98e",
   "metadata": {},
   "outputs": [
    {
     "name": "stdout",
     "output_type": "stream",
     "text": [
      "[0, np.float64(0.0)]\n",
      "[1, np.float64(0.7613944332457532)]\n",
      "[2, np.float64(0.7444697670368614)]\n",
      "[3, np.float64(0.10454427327350052)]\n",
      "[4, np.float64(-0.5072998834946971)]\n",
      "[5, np.float64(-0.5816169729258919)]\n",
      "[6, np.float64(-0.15334647671658003)]\n",
      "[7, np.float64(0.32624988971165475)]\n",
      "[8, np.float64(0.44454731609611475)]\n",
      "[9, np.float64(0.1675548723175521)]\n",
      "[10, np.float64(-0.20013418225944862)]\n",
      "[11, np.float64(-0.3328678237419991)]\n",
      "[12, np.float64(-0.16161265717057166)]\n",
      "[13, np.float64(0.11450887592015245)]\n",
      "[14, np.float64(0.2442807663725781)]\n",
      "[15, np.float64(0.145098829916834)]\n",
      "[16, np.float64(-0.05812667715378932)]\n",
      "[17, np.float64(-0.1756314818320178)]\n",
      "[18, np.float64(-0.12413735695994832)]\n",
      "[19, np.float64(0.022416927302229158)]\n",
      "[20, np.float64(0.12355370408674389)]\n",
      "[21, np.float64(0.10245386117284332)]\n",
      "[22, np.float64(-0.0009807530250186178)]\n",
      "[23, np.float64(-0.08484107925724625)]\n",
      "[24, np.float64(-0.0821522155444196)]\n",
      "[25, np.float64(-0.010864093224646296)]\n",
      "[26, np.float64(0.05663794471469802)]\n",
      "[27, np.float64(0.06427373464037883)]\n",
      "[28, np.float64(0.01647379795253556)]\n",
      "[29, np.float64(-0.036515273247938386)]\n",
      "[30, np.float64(-0.04919119801832296)]\n",
      "[31, np.float64(-0.01820157365877528)]\n",
      "[32, np.float64(0.022477366859887316)]\n",
      "[33, np.float64(0.036879916522821625)]\n",
      "[34, np.float64(0.017657219315218024)]\n",
      "[35, np.float64(-0.012929996245567153)]\n",
      "[36, np.float64(-0.02709909012057374)]\n",
      "[37, np.float64(-0.015910532074724575)]\n",
      "[38, np.float64(0.006629993859643717)]\n",
      "[39, np.float64(0.01950906086103734)]\n",
      "[40, np.float64(0.013647223578583192)]\n",
      "[41, np.float64(-0.002628802001461523)]\n",
      "[42, np.float64(-0.013743769279392023)]\n",
      "[43, np.float64(-0.01128598468021438)]\n",
      "[44, np.float64(0.00021733255145782305)]\n",
      "[45, np.float64(0.0094526843084277)]\n",
      "[46, np.float64(0.00906462834699036)]\n",
      "[47, np.float64(0.0011239317936896822)]\n",
      "[48, np.float64(-0.006322541531924329)]\n",
      "[49, np.float64(-0.007102198357887862)]\n",
      "[50, np.float64(-0.0017678678581498752)]\n"
     ]
    }
   ],
   "source": [
    "for x in range(51):\n",
    "    y = np.exp(-x/10)*np.sin(x)\n",
    "    print([x, y])"
   ]
  },
  {
   "cell_type": "code",
   "execution_count": 30,
   "id": "bb91a7e8",
   "metadata": {},
   "outputs": [
    {
     "data": {
      "text/plain": [
       "Text(0, 0.5, 'y')"
      ]
     },
     "execution_count": 30,
     "metadata": {},
     "output_type": "execute_result"
    },
    {
     "data": {
      "image/png": "[encoded data removed]",
      "text/plain": [
       "<Figure size 640x480 with 1 Axes>"
      ]
     },
     "metadata": {},
     "output_type": "display_data"
    }
   ],
   "source": [
    "# Some data for plotting\n",
    "#x = [0, 1, 2, 3, 4, 5, 6]\n",
    "#y_1 = [0, 2, 4, 6, 8, 10, 12]\n",
    "#y_2 = [0, 3, 6, 9, 12, 15, 18]\n",
    "\n",
    "#np_x = np.array(x)\n",
    "#np_y_1 = np.array(y_1)\n",
    "#np_y_2 = np.array(y_2)\n",
    "\n",
    "plt.plot(x, y, color='blue', linestyle='dashed', label='Y values')\n",
    "plt.xlabel('X', color = 'darkorange')\n",
    "plt.ylabel('y', color = 'darkorange')"
   ]
  }
 ],
 "metadata": {
  "kernelspec": {
   "display_name": "base",
   "language": "python",
   "name": "python3"
  },
  "language_info": {
   "codemirror_mode": {
    "name": "ipython",
    "version": 3
   },
   "file_extension": ".py",
   "mimetype": "text/x-python",
   "name": "python",
   "nbconvert_exporter": "python",
   "pygments_lexer": "ipython3",
   "version": "3.13.5"
  },
  "toc": {
   "base_numbering": 1,
   "nav_menu": {},
   "number_sections": true,
   "sideBar": true,
   "skip_h1_title": false,
   "title_cell": "Table of Contents",
   "title_sidebar": "Contents",
   "toc_cell": false,
   "toc_position": {},
   "toc_section_display": true,
   "toc_window_display": false
  }
 },
 "nbformat": 4,
 "nbformat_minor": 5
}
