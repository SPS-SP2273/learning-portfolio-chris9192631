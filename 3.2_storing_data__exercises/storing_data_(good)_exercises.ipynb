{
 "cells": [
  {
   "attachments": {},
   "cell_type": "markdown",
   "id": "123456",
   "metadata": {},
   "source": [
    "<div style=\"text-align:left;font-size:2em\"><span style=\"font-weight:bolder;font-size:1.25em\">SP2273 | Learning Portfolio</span><br><br><span style=\"font-weight:bold;color:darkred\">Storing Data (Good) Exercises</span></div>"
   ]
  },
  {
   "cell_type": "markdown",
   "id": "0ca522b8",
   "metadata": {},
   "source": [
    "**Exercise 1 (Total recall)** \n",
    "\n",
    "Purely from memory, write short descriptions of the following terms:"
   ]
  },
  {
   "cell_type": "markdown",
   "id": "d6133d63",
   "metadata": {},
   "source": [
    "| **Term**  | **Brief description**  |\n",
    "|---|---|\n",
    "|  Subsetting | Carving of some data from a list or array to be put in a separate data.  |\n",
    "|  Indexing | Calling out needed data through their index.  |\n",
    "|  Slicing | Subsetting of an existing list or array using a range  |\n",
    "| Masking  | Subsetting by using True/False  |\n",
    "\n",
    "\n",
    "\n",
    "\n",
    "\n",
    "\n",
    "| **Term**  | **Brief description**  |\n",
    "|---|---|\n",
    "|  Subsetting | *Subsetting is to select a subset of data in a list, it is more of a generic term compared to slicing or indexing.*   |\n",
    "|  Indexing | *It is selecting one element from a list or array, like calling out.*  |\n",
    "|  Slicing | *Selecting a range of elements from a list/array.* |\n",
    "| Masking  | *Asking a question to an array, and through its True/False answer, subsetting the desired data into another array.* |"
   ]
  },
  {
   "cell_type": "markdown",
   "id": "a2b838af",
   "metadata": {},
   "source": [
    "**Exercise 2 (Show me the 'odd' letters)** \n",
    "\n",
    "Use masking to subset the letters that correspond to the odd numbers. I.e., get the result [A, C, E, G, I].\n",
    "\n",
    "This is a slightly tricky problem because arrays are fussy about type. So, let me give you a recipe to solve this problem.\n",
    "\n",
    "1. Subset all the first elements.\n",
    "You should get array(['1', '3', '2', ..., '10', '9'])\n",
    "2. Convert this to integers using astype(int)\n",
    "You must look up how astype() works.\n",
    "3. Use % to get the remainder for division by 2.\n",
    "You should get array([1, 1, 0, ..., 0, 1]).\n",
    "4. Use the previous result to create a mask that checks if the remainder is zero or not\n",
    "You should get array([True, True, False, ..., False, True]).\n",
    "Now you have identified the locations of the odd numbers.\n",
    "5. Use the mask and extract the corresponding second elements."
   ]
  },
  {
   "cell_type": "code",
   "execution_count": 7,
   "id": "41e44a95",
   "metadata": {},
   "outputs": [],
   "source": [
    "import numpy as np\n",
    "np_array_2d = np.array([[1, \"A\"], [3, \"C\"], [2, \"B\"], [4, \"D\"],\n",
    "                        [5, \"E\"], [7, \"G\"], [6, \"F\"], [8, \"H\"],\n",
    "                        [10, \"J\"], [9, \"I\"]])"
   ]
  },
  {
   "cell_type": "code",
   "execution_count": 23,
   "id": "724f75f3",
   "metadata": {},
   "outputs": [],
   "source": [
    "numbers = np_array_2d[:,0]"
   ]
  },
  {
   "cell_type": "code",
   "execution_count": 26,
   "id": "6c7b4a58",
   "metadata": {},
   "outputs": [],
   "source": [
    "numbers2 = numbers.astype(int, copy=True)"
   ]
  },
  {
   "cell_type": "code",
   "execution_count": 35,
   "id": "5b6fd7a7",
   "metadata": {},
   "outputs": [
    {
     "name": "stdout",
     "output_type": "stream",
     "text": [
      "[1 1 0 0 1 1 0 0 0 1]\n"
     ]
    }
   ],
   "source": [
    "rem = numbers2%2\n",
    "print(rem)"
   ]
  },
  {
   "cell_type": "code",
   "execution_count": 42,
   "id": "fad6896d",
   "metadata": {},
   "outputs": [
    {
     "data": {
      "text/plain": [
       "array(['A', 'C', 'E', 'G', 'I'], dtype='<U21')"
      ]
     },
     "execution_count": 42,
     "metadata": {},
     "output_type": "execute_result"
    }
   ],
   "source": [
    "my_mask = (rem == 1)\n",
    "subset = np_array_2d[my_mask]\n",
    "subset[:,1]"
   ]
  },
  {
   "cell_type": "code",
   "execution_count": null,
   "id": "eceb2b14",
   "metadata": {},
   "outputs": [],
   "source": []
  },
  {
   "cell_type": "markdown",
   "id": "7fda3f05",
   "metadata": {},
   "source": [
    "**Exercise 3** \n",
    "\n",
    "Consider the 2D array shown above. Using your knowledge of NumPy masking, change:\n",
    "\n",
    "values below 50 to -1,\n",
    "values above 50 to +1, and\n",
    "values equal to 50 to 0.\n",
    "You should end up with:\n",
    "\n",
    "[[ 1  0  1 -1 -1]\n",
    " [ 1 -1  1 -1 -1]\n",
    " [ 1 -1 -1  1 -1]\n",
    " [-1  1  1 -1 -1]\n",
    " [ 1 -1  1 -1  1]]\n"
   ]
  },
  {
   "cell_type": "code",
   "execution_count": null,
   "id": "686b508b",
   "metadata": {},
   "outputs": [
    {
     "data": {
      "text/plain": [
       "array([-1, -1, -1, -1, -1, -1, -1, -1, -1, -1, -1, -1, -1])"
      ]
     },
     "execution_count": 29,
     "metadata": {},
     "output_type": "execute_result"
    }
   ],
   "source": [
    "list = [[66, 50, 57, -1, -1],\n",
    " [92, -1, 88, -1, -1],\n",
    " [75, -1, -1, 76, -1],\n",
    " [-1, 51, 87, -1, -1],\n",
    " [71, -1, 67, -1, 69]]\n",
    "\n",
    "\n",
    "array = np.array(list)\n",
    "array[(array<50)]\n",
    "\n",
    "\n",
    "\n"
   ]
  }
 ],
 "metadata": {
  "kernelspec": {
   "display_name": "base",
   "language": "python",
   "name": "python3"
  },
  "language_info": {
   "codemirror_mode": {
    "name": "ipython",
    "version": 3
   },
   "file_extension": ".py",
   "mimetype": "text/x-python",
   "name": "python",
   "nbconvert_exporter": "python",
   "pygments_lexer": "ipython3",
   "version": "3.13.5"
  },
  "toc": {
   "base_numbering": 1,
   "nav_menu": {},
   "number_sections": true,
   "sideBar": true,
   "skip_h1_title": false,
   "title_cell": "Table of Contents",
   "title_sidebar": "Contents",
   "toc_cell": false,
   "toc_position": {},
   "toc_section_display": true,
   "toc_window_display": false
  }
 },
 "nbformat": 4,
 "nbformat_minor": 5
}
