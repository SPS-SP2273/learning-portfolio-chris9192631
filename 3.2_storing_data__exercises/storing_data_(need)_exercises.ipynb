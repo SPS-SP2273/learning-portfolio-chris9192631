{
 "cells": [
  {
   "attachments": {},
   "cell_type": "markdown",
   "id": "123456",
   "metadata": {},
   "source": [
    "<div style=\"text-align:left;font-size:2em\"><span style=\"font-weight:bolder;font-size:1.25em\">SP2273 | Learning Portfolio</span><br><br><span style=\"font-weight:bold;color:darkred\">Storing Data (Need) Exercises</span></div>"
   ]
  },
  {
   "cell_type": "code",
   "execution_count": 7,
   "id": "c5f63be9",
   "metadata": {},
   "outputs": [],
   "source": [
    "import numpy as np"
   ]
  },
  {
   "cell_type": "markdown",
   "id": "0b14a3f4",
   "metadata": {},
   "source": [
    "**Exercise 1 (Total recall?)**\n",
    "Purely from memory, jot down:\n",
    "\n",
    "1. Two similarities between lists and arrays.\n",
    "2. Two differences between lists and arrays.\n",
    "3. What is a dictionary?\n",
    "If you cannot recall the answers, please refer to the course notes and put this information you could not recall in italics."
   ]
  },
  {
   "cell_type": "markdown",
   "id": "c8fd6ff4",
   "metadata": {},
   "source": [
    "1a. They both store data in a way that is easy to access and use.\n",
    "\n",
    "\n",
    "1b. If you have two separate data sets, you have to store them separately unlike a dictionary.\n",
    "\n",
    "\n",
    "2a. Arrays can only store one data type while lists can store multiple (strings, floats etc).\n",
    "\n",
    "\n",
    "2b. Using (mathematical) functions on lists tends to act on the whole list while (mathematical) functions on arrays tend to act on the elements.\n",
    "\n",
    "\n",
    "3.A dictionary is used to store two separate data sets *in one structure*, where you can use a key to call out the other corresponding data set *which is called a value, keys and values are separated by a colon*.\n",
    "\n",
    "\n",
    "\n",
    "***corrections***\n",
    "\n",
    "\n",
    "**Similarities**\n",
    "\n",
    "*1. You access data in the same way, through specifying the relevant index starting from zero.*\n",
    "\n",
    "*2. You need two lists if you want to store paired data (key and value like in a dictionary), but to make up for it you can have a 2D list or array.*\n",
    "\n",
    "\n",
    "**Differences**\n",
    "\n",
    "*1. Arrays not only let you know the number of elements there are (like a list), they also can let you know how many \"columns\" there are, through using \".shape\"*\n",
    "\n",
    "\n",
    "*2. Arrays can only store one datatype, but you can change the data type using astypes().*\n",
    "\n",
    "\n",
    "*3. An operation on a list works on the whole list, while an operation on an array works on the individual elements of the array.*\n",
    "*eg adding another list to a list will cause it to increase the number of elements, while adding an array to another array causes the existing numbers to increase in value.*\n"
   ]
  },
  {
   "cell_type": "markdown",
   "id": "dc45764b",
   "metadata": {},
   "source": [
    "**Exercise 2 (Indexing)**\n",
    "Modify the following code to print out all elements with an odd number. I have done the one corresponding to i9 for you.\n"
   ]
  },
  {
   "cell_type": "code",
   "execution_count": 2,
   "id": "dca69577",
   "metadata": {},
   "outputs": [
    {
     "name": "stdout",
     "output_type": "stream",
     "text": [
      "a1\n",
      "c3\n",
      "e5\n",
      "g7\n",
      "i9\n"
     ]
    }
   ],
   "source": [
    "py_list = [\"a1\", \"b2\", \"c3\", \"d4\", \"e5\", \"f6\", \"g7\", \"h8\", \"i9\", \"j10\"]\n",
    "print(py_list[0])                    # Prints 'a1'\n",
    "print(py_list[2])                    # Prints 'c3'\n",
    "print(py_list[4])                    # Prints 'e5'\n",
    "print(py_list[6])                    # Prints 'g7'\n",
    "print(py_list[8])   # Prints 'i9'"
   ]
  },
  {
   "cell_type": "markdown",
   "id": "3de09ae8",
   "metadata": {},
   "source": [
    "**Exercise 3 (Index again)**\n",
    "\n",
    "1. Access and print the element at index 4 using forward indexing.\n",
    "2. Access and print the element at index 4 from the end of the list using reverse indexing."
   ]
  },
  {
   "cell_type": "code",
   "execution_count": null,
   "id": "c3057b03",
   "metadata": {},
   "outputs": [],
   "source": [
    "elements = ['Hydrogen',\n",
    "            'Helium', 'Lithium',\n",
    "            'Beryllium', 'Boron', 'Carbon',\n",
    "            'Nitrogen', 'Oxygen',\n",
    "            'Fluorine',\n",
    "            'Neon']"
   ]
  },
  {
   "cell_type": "code",
   "execution_count": 6,
   "id": "eb81597a",
   "metadata": {},
   "outputs": [
    {
     "name": "stdout",
     "output_type": "stream",
     "text": [
      "Boron\n",
      "Nitrogen\n"
     ]
    }
   ],
   "source": [
    "print(elements[4])\n",
    "print(elements[-4])\n",
    "\n",
    "#negative index starts from -1"
   ]
  },
  {
   "cell_type": "markdown",
   "id": "77ba7ad1",
   "metadata": {},
   "source": [
    "**Exercise 4 (How many ones)**\n",
    "\n",
    "Use the concepts you learned in this chapter to determine the number of 1’s in the following list of numbers."
   ]
  },
  {
   "cell_type": "code",
   "execution_count": 1,
   "id": "0a0395d3",
   "metadata": {},
   "outputs": [],
   "source": [
    "numbers=[45, 60, 1, 30, 96, 1, 96, 57, 16, 1,\n",
    "        99, 62, 86, 43, 42, 60, 59, 1, 1, 35,\n",
    "        83, 47, 34, 28, 68, 23, 22, 92, 1, 79,\n",
    "        1, 29, 94, 72, 46, 47, 1, 74, 32, 20,\n",
    "        8, 37, 35, 1, 89, 29, 86, 19, 43, 61]                  "
   ]
  },
  {
   "cell_type": "code",
   "execution_count": 5,
   "id": "453ad6d2",
   "metadata": {},
   "outputs": [
    {
     "data": {
      "text/plain": [
       "np.int64(9)"
      ]
     },
     "execution_count": 5,
     "metadata": {},
     "output_type": "execute_result"
    }
   ],
   "source": [
    "#number of \"1s\", not including those that are in the elements like 61\n",
    "import numpy as np\n",
    "array = np.array(numbers)\n",
    "\n",
    "sum(numbers in np.array(numbers) ==1)"
   ]
  },
  {
   "cell_type": "markdown",
   "id": "fc51f652",
   "metadata": {},
   "source": [
    "**Exercise 5 (A matter of statistics)**\n",
    "\n",
    "Using NumPy:\n",
    "\n",
    "1. Determine the means of $x_1$  and $x_2$.\n",
    "2. Determine the standard deviations of $x_1$  and $x_2$\n",
    "3. Determine the Pearson correlation coefficient $r$ for the two datasets. Don’t use np.corrcoef()!\n",
    "4. Compare your results to np.corrcoef().\n",
    "\n"
   ]
  },
  {
   "cell_type": "code",
   "execution_count": 3,
   "id": "74d118e3",
   "metadata": {},
   "outputs": [],
   "source": [
    "import numpy as np\n",
    "\n",
    "x_1 = [1, 4, 9, 16, 25, 36, 49, 64, 81, 100]\n",
    "x_2 = [1, 8, 27, 64, 125, 216, 343, 512, 729, 1000]"
   ]
  },
  {
   "cell_type": "code",
   "execution_count": 4,
   "id": "047a4b29",
   "metadata": {},
   "outputs": [
    {
     "name": "stdout",
     "output_type": "stream",
     "text": [
      "[np.float64(38.5), np.float64(302.5)]\n"
     ]
    }
   ],
   "source": [
    "#1. Determine the means of $x_1$  and $x_2$.\n",
    "means =  [np.mean(x_1), np.mean(x_2)]\n",
    "print(means)"
   ]
  },
  {
   "cell_type": "code",
   "execution_count": 5,
   "id": "bbc641fb",
   "metadata": {},
   "outputs": [
    {
     "name": "stdout",
     "output_type": "stream",
     "text": [
      "[np.float64(32.41990129534635), np.float64(326.0893282522444)]\n"
     ]
    }
   ],
   "source": [
    "#2. Determine the standard deviations of $x_1$  and $x_2$\n",
    "standarddevs =  [np.std(x_1), np.std(x_2)]\n",
    "print(standarddevs)"
   ]
  },
  {
   "cell_type": "markdown",
   "id": "d6b96d20",
   "metadata": {},
   "source": [
    "$r$ = $\\dfrac{\\sum_{i=1}^{n} (x_i - \\mu_X) (y_i - \\mu_Y)}{\\sqrt{\\sum_{i=1}^{n} (x_i - \\mu_X)^2 \\sum_{i=1}^{n} (y_i - \\mu_Y)^2} }$\n",
    "\n",
    "\n",
    "\n",
    "![I'm stupid](https://www.gstatic.com/education/formulas2/553212783/en/correlation_coefficient_formula.svg)"
   ]
  },
  {
   "cell_type": "code",
   "execution_count": 57,
   "id": "e86a462e",
   "metadata": {},
   "outputs": [
    {
     "name": "stdout",
     "output_type": "stream",
     "text": [
      "0.7264541504136329\n"
     ]
    }
   ],
   "source": [
    "array_1 = np.array(x_1)\n",
    "array_2 = np.array(x_2) \n",
    "array_means = np.array(means)\n",
    "array_std = np.array(standarddevs)\n",
    "\n",
    "\n",
    "sum(array_1)\n",
    "\n",
    "sum(array_2)\n",
    "\n",
    "sum(array_1**2)\n",
    "sum(array_2**2)\n",
    "\n",
    "sum(array_1*array_2)\n",
    "\n",
    "calculated_r = ((10*sum(array_1*array_2)) - (sum(array_1)*sum(array_2)) )/ np.sqrt((10*sum(array_1**2)-(sum(array_1))**2)*(10*sum(array_2**2)-(sum(array_1))**2))\n",
    "print(calculated_r)"
   ]
  },
  {
   "cell_type": "code",
   "execution_count": 51,
   "id": "43b04ebc",
   "metadata": {},
   "outputs": [
    {
     "name": "stdout",
     "output_type": "stream",
     "text": [
      "[[1.         0.98717966]\n",
      " [0.98717966 1.        ]]\n"
     ]
    }
   ],
   "source": [
    "numpy_r = np.corrcoef(array_1, array_2)\n",
    "print(numpy_r)"
   ]
  },
  {
   "cell_type": "markdown",
   "id": "c2998c12",
   "metadata": {},
   "source": []
  },
  {
   "cell_type": "code",
   "execution_count": null,
   "id": "93d784bf",
   "metadata": {},
   "outputs": [
    {
     "data": {
      "text/plain": [
       "array([[-0.27354585, -0.26072551],\n",
       "       [-0.26072551, -0.27354585]])"
      ]
     },
     "execution_count": 55,
     "metadata": {},
     "output_type": "execute_result"
    }
   ],
   "source": [
    "calculated_r - numpy_r\n",
    "\n",
    "#Both show the result is insignificant, but there is a 0.261 difference between my calculated value and numpy value\n"
   ]
  }
 ],
 "metadata": {
  "kernelspec": {
   "display_name": "base",
   "language": "python",
   "name": "python3"
  },
  "language_info": {
   "codemirror_mode": {
    "name": "ipython",
    "version": 3
   },
   "file_extension": ".py",
   "mimetype": "text/x-python",
   "name": "python",
   "nbconvert_exporter": "python",
   "pygments_lexer": "ipython3",
   "version": "3.13.5"
  },
  "toc": {
   "base_numbering": 1,
   "nav_menu": {},
   "number_sections": true,
   "sideBar": true,
   "skip_h1_title": false,
   "title_cell": "Table of Contents",
   "title_sidebar": "Contents",
   "toc_cell": false,
   "toc_position": {},
   "toc_section_display": true,
   "toc_window_display": false
  }
 },
 "nbformat": 4,
 "nbformat_minor": 5
}
