{
 "cells": [
  {
   "attachments": {},
   "cell_type": "markdown",
   "id": "123456",
   "metadata": {},
   "source": [
    "<div style=\"text-align:left;font-size:2em\"><span style=\"font-weight:bolder;font-size:1.25em\">SP2273 | Learning Portfolio</span><br><br><span style=\"font-weight:bold;color:darkred\">Storing Data (Need) Exercises</span></div>"
   ]
  },
  {
   "cell_type": "markdown",
   "id": "0b14a3f4",
   "metadata": {},
   "source": [
    "**Exercise 1 (Total recall?)**\n",
    "Purely from memory, jot down:\n",
    "\n",
    "1. Two similarities between lists and arrays.\n",
    "2. Two differences between lists and arrays.\n",
    "3. What is a dictionary?\n",
    "If you cannot recall the answers, please refer to the course notes and put this information you could not recall in italics."
   ]
  },
  {
   "cell_type": "markdown",
   "id": "c8fd6ff4",
   "metadata": {},
   "source": [
    "1a. They both store data in a way that is easy to access and use.\n",
    "\n",
    "\n",
    "1b. If you have two separate data sets, you have to store them separately unlike a dictionary.\n",
    "\n",
    "\n",
    "2a. Arrays can only store one data type while lists can store multiple (strings, floats etc).\n",
    "\n",
    "\n",
    "2b. Using (mathematical) functions on lists tends to act on the whole list while (mathematical) functions on arrays tend to act on the elements.\n",
    "\n",
    "\n",
    "3.A dictionary is used to store two separate data sets *in one structure*, where you can use a key to call out the other corresponding data set *which is called a value, keys and values are separated by a colon*.\n",
    "\n",
    "\n",
    "\n",
    "***corrections***\n",
    "\n",
    "\n",
    "**Similarities**\n",
    "\n",
    "*1. You access data in the same way, through specifying the relevant index starting from zero.*\n",
    "\n",
    "*2. You need two lists if you want to store paired data (key and value like in a dictionary), but to make up for it you can have a 2D list or array.*\n",
    "\n",
    "\n",
    "**Differences**\n",
    "\n",
    "*1. Arrays not only let you know the number of elements there are (like a list), they also can let you know how many \"columns\" there are, through using \".shape\"*\n",
    "\n",
    "\n",
    "*2. Arrays can only store one datatype, but you can change the data type using astypes().*\n",
    "\n",
    "\n",
    "*3. An operation on a list works on the whole list, while an operation on an array works on the individual elements of the array.*\n",
    "*eg adding another list to a list will cause it to increase the number of elements, while adding an array to another array causes the existing numbers to increase in value.*\n"
   ]
  },
  {
   "cell_type": "markdown",
   "id": "dc45764b",
   "metadata": {},
   "source": [
    "**Exercise 2 (Indexing)**\n",
    "\n"
   ]
  },
  {
   "cell_type": "code",
   "execution_count": null,
   "id": "dca69577",
   "metadata": {},
   "outputs": [],
   "source": []
  },
  {
   "cell_type": "code",
   "execution_count": null,
   "id": "c3057b03",
   "metadata": {},
   "outputs": [],
   "source": []
  }
 ],
 "metadata": {
  "kernelspec": {
   "display_name": "base",
   "language": "python",
   "name": "python3"
  },
  "language_info": {
   "codemirror_mode": {
    "name": "ipython",
    "version": 3
   },
   "file_extension": ".py",
   "mimetype": "text/x-python",
   "name": "python",
   "nbconvert_exporter": "python",
   "pygments_lexer": "ipython3",
   "version": "3.13.5"
  },
  "toc": {
   "base_numbering": 1,
   "nav_menu": {},
   "number_sections": true,
   "sideBar": true,
   "skip_h1_title": false,
   "title_cell": "Table of Contents",
   "title_sidebar": "Contents",
   "toc_cell": false,
   "toc_position": {},
   "toc_section_display": true,
   "toc_window_display": false
  }
 },
 "nbformat": 4,
 "nbformat_minor": 5
}
