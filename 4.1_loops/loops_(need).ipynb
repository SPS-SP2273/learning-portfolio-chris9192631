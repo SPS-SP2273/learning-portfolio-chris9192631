{
 "cells": [
  {
   "attachments": {},
   "cell_type": "markdown",
   "id": "123456",
   "metadata": {},
   "source": [
    "<div style=\"text-align:left;font-size:2em\"><span style=\"font-weight:bolder;font-size:1.25em\">SP2273 | Learning Portfolio</span><br><br><span style=\"font-weight:bold;color:darkred\">Loops (Need)</span></div>"
   ]
  },
  {
   "attachments": {},
   "cell_type": "markdown",
   "id": "123456",
   "metadata": {},
   "source": [
    "# What to expect in this chapter"
   ]
  },
  {
   "cell_type": "code",
   "execution_count": 45,
   "id": "d2c62064",
   "metadata": {},
   "outputs": [],
   "source": [
    "import numpy as np"
   ]
  },
  {
   "attachments": {},
   "cell_type": "markdown",
   "id": "123456",
   "metadata": {},
   "source": [
    "# 1 The for iterator"
   ]
  },
  {
   "cell_type": "code",
   "execution_count": 13,
   "id": "97340bf1",
   "metadata": {},
   "outputs": [],
   "source": [
    "real_names = [\"Natasha Romanoff\", \"Tony Stark\", \"Stephen Strange\"] + [\"Peter Parker\"] + [\"Johnny Storm\"]"
   ]
  },
  {
   "cell_type": "markdown",
   "id": "e1d9a04b",
   "metadata": {},
   "source": [
    "**Poor Example**"
   ]
  },
  {
   "cell_type": "code",
   "execution_count": 3,
   "id": "8502b526",
   "metadata": {},
   "outputs": [
    {
     "name": "stdout",
     "output_type": "stream",
     "text": [
      "Natasha Romanoff is a Marvel superhero!\n",
      "Tony Stark is a Marvel superhero!\n",
      "Stephen Strange is a Marvel superhero!\n"
     ]
    }
   ],
   "source": [
    "name = real_names[0]\n",
    "print(f\"{name} is a Marvel superhero!\")\n",
    "\n",
    "name=real_names[1]\n",
    "print(f\"{name} is a Marvel superhero!\")\n",
    "\n",
    "name=real_names[2]\n",
    "print(f\"{name} is a Marvel superhero!\")"
   ]
  },
  {
   "cell_type": "code",
   "execution_count": 4,
   "id": "408a3e9a",
   "metadata": {},
   "outputs": [
    {
     "name": "stdout",
     "output_type": "stream",
     "text": [
      "Natasha Romanoff\n",
      "Tony Stark\n",
      "Stephen Strange\n"
     ]
    }
   ],
   "source": [
    "#ORRR (another poor way)\n",
    "print(real_names[0])\n",
    "print(real_names[1])\n",
    "print(real_names[2])    "
   ]
  },
  {
   "cell_type": "code",
   "execution_count": 47,
   "id": "71db9c65",
   "metadata": {},
   "outputs": [
    {
     "name": "stdout",
     "output_type": "stream",
     "text": [
      "Natasha Romanoff is a Marvel superhero!\n",
      "Tony Stark is a Marvel superhero!\n",
      "Stephen Strange is a Marvel superhero!\n",
      "Peter Parker is a Marvel superhero!\n",
      "Johnny Storm is a Marvel superhero!\n"
     ]
    }
   ],
   "source": [
    "#VS (better way)\n",
    "\n",
    "for name in real_names:\n",
    "    print(f\"{name} is a Marvel superhero!\")"
   ]
  },
  {
   "cell_type": "code",
   "execution_count": 5,
   "id": "11a81639",
   "metadata": {},
   "outputs": [
    {
     "name": "stdout",
     "output_type": "stream",
     "text": [
      "1 Natasha Romanoff\n",
      "1 Tony Stark\n",
      "1 Stephen Strange\n"
     ]
    }
   ],
   "source": [
    "for name in real_names:\n",
    "    count  = 0   #this is wrong because everytime you run the loop, it resets the count to 0\n",
    "    count += 1\n",
    "    print(count,name)\n"
   ]
  },
  {
   "cell_type": "code",
   "execution_count": 6,
   "id": "15a47c98",
   "metadata": {},
   "outputs": [
    {
     "name": "stdout",
     "output_type": "stream",
     "text": [
      "2 Natasha Romanoff\n",
      "3 Tony Stark\n",
      "4 Stephen Strange\n"
     ]
    }
   ],
   "source": [
    "for name in real_names:\n",
    "    count +=1\n",
    "    print(count,name)"
   ]
  },
  {
   "attachments": {},
   "cell_type": "markdown",
   "id": "123456",
   "metadata": {},
   "source": [
    "## 1.1 for with a list"
   ]
  },
  {
   "cell_type": "code",
   "execution_count": null,
   "id": "38e1bd9c",
   "metadata": {},
   "outputs": [],
   "source": [
    "for name in real_names:\n",
    "    print(f\"{name} is a Marvel superhero!\")"
   ]
  },
  {
   "cell_type": "code",
   "execution_count": null,
   "id": "f061f757",
   "metadata": {},
   "outputs": [],
   "source": [
    "for x in real_names:\n",
    "    print(f\"{x} is a Marvel superhero!\")\n",
    "\n",
    "    #not very clear if you only use x"
   ]
  },
  {
   "attachments": {},
   "cell_type": "markdown",
   "id": "123456",
   "metadata": {},
   "source": [
    "## 1.2 for with enumerate"
   ]
  },
  {
   "cell_type": "code",
   "execution_count": 52,
   "id": "e228ac09",
   "metadata": {},
   "outputs": [],
   "source": [
    "super_names = [\"Black Widow\", \"Iron Man\", \"Doctor Strange\"]\n",
    "real_names = [\"Natasha Romanoff\", \"Tony Stark\", \"Stephen Strange\"]"
   ]
  },
  {
   "cell_type": "code",
   "execution_count": 53,
   "id": "34a49a2b",
   "metadata": {},
   "outputs": [
    {
     "name": "stdout",
     "output_type": "stream",
     "text": [
      "0: Natasha Romanoff is a Marvel superhero!\n",
      "1: Tony Stark is a Marvel superhero!\n",
      "2: Stephen Strange is a Marvel superhero!\n"
     ]
    }
   ],
   "source": [
    "for count, name in enumerate(real_names):\n",
    "    print(f'{count}: {name} is a Marvel superhero!')"
   ]
  },
  {
   "cell_type": "code",
   "execution_count": null,
   "id": "3bf280e8",
   "metadata": {},
   "outputs": [],
   "source": [
    "for index, real_name in enumerate(real_names):\n",
    "    # 0, Nata -> 1, Tony -> 2, Stephen\n",
    "    superhero_name = super_names[index]\n",
    "    print(f'{real_name} is {superhero_name}!')\n",
    "\n",
    "    #this code is pretty confusing to me\n",
    "    \n",
    "    ##ANS: the word index is arbitrary and can be replaced with other words\n",
    "    #the variable \"name\" is the string that corresponds to the increasing number of the list \n",
    "    #without enumerate, it will not assign a number to the \"index\", and hence cannot draw the similar list value from super_names"
   ]
  },
  {
   "cell_type": "code",
   "execution_count": null,
   "id": "a487c911",
   "metadata": {},
   "outputs": [
    {
     "name": "stdout",
     "output_type": "stream",
     "text": [
      "Natasha Romanoff is Doctor Strange!\n",
      "Tony Stark is Doctor Strange!\n",
      "Stephen Strange is Doctor Strange!\n"
     ]
    }
   ],
   "source": [
    "for real_name in real_names:\n",
    "    # 0, Nata -> 1, Tony -> 2, Stephen\n",
    "    superhero_name = super_names[index]\n",
    "    print(f'{real_name} is {superhero_name}!')\n",
    "\n",
    "    #this code is pretty confusing to me\n",
    "\n",
    "##without enumerate, it will not be able to draw the same list value from super_names\n",
    "## it only displays dr strange because it remembers the previous value of the superhero name "
   ]
  },
  {
   "cell_type": "code",
   "execution_count": 56,
   "id": "da05ab42",
   "metadata": {},
   "outputs": [
    {
     "name": "stdout",
     "output_type": "stream",
     "text": [
      "100: Natasha Romanoff is a Marvel superhero!\n",
      "101: Tony Stark is a Marvel superhero!\n",
      "102: Stephen Strange is a Marvel superhero!\n"
     ]
    }
   ],
   "source": [
    "for count, name in enumerate(real_names, 100):\n",
    "    print(f'{count}: {name} is a Marvel superhero!')\n",
    "    \n",
    "    #start from a different number for count"
   ]
  },
  {
   "cell_type": "markdown",
   "id": "bf77c277",
   "metadata": {},
   "source": [
    "**In lecture**"
   ]
  },
  {
   "cell_type": "code",
   "execution_count": 7,
   "id": "e01f1039",
   "metadata": {},
   "outputs": [
    {
     "name": "stdout",
     "output_type": "stream",
     "text": [
      "1 Natasha\n",
      "2 Tony\n",
      "3 Stephen\n"
     ]
    }
   ],
   "source": [
    "for count, name in enumerate(real_names, start =1):\n",
    "    first_name, last_name = name.split()\n",
    "    print(count, first_name)"
   ]
  },
  {
   "cell_type": "code",
   "execution_count": 16,
   "id": "7c3f88e9",
   "metadata": {},
   "outputs": [
    {
     "name": "stdout",
     "output_type": "stream",
     "text": [
      "1. Natasha\n",
      "2. Tony\n",
      "3. Stephen\n",
      "4. Peter\n",
      "5. Johnny\n",
      "\n"
     ]
    }
   ],
   "source": [
    "all_names = \"\"\n",
    "for count, name in enumerate(real_names, start =1):\n",
    "    first_name, last_name = name.split()\n",
    "    all_names += f\"{count}. {first_name}\\n\"\n",
    "\n",
    "print(all_names)\n"
   ]
  },
  {
   "attachments": {},
   "cell_type": "markdown",
   "id": "123456",
   "metadata": {},
   "source": [
    "## 1.3 for with range"
   ]
  },
  {
   "cell_type": "code",
   "execution_count": 57,
   "id": "6a4b7a43",
   "metadata": {},
   "outputs": [
    {
     "name": "stdout",
     "output_type": "stream",
     "text": [
      "0\n",
      "1\n",
      "2\n",
      "3\n",
      "4\n"
     ]
    }
   ],
   "source": [
    "for i in range(5):\n",
    "    print(i)"
   ]
  },
  {
   "cell_type": "code",
   "execution_count": null,
   "id": "e973df2c",
   "metadata": {},
   "outputs": [],
   "source": [
    "for i in range(5, 10):\n",
    "    print(i)\n",
    "\n",
    "    #end value change\n"
   ]
  },
  {
   "cell_type": "code",
   "execution_count": null,
   "id": "7826a32d",
   "metadata": {},
   "outputs": [],
   "source": [
    "for i in range(1, 10, 3):\n",
    "    print(i)\n",
    "\n",
    "    #step wise change"
   ]
  },
  {
   "cell_type": "markdown",
   "id": "abe74803",
   "metadata": {},
   "source": [
    "**In Lecture**"
   ]
  },
  {
   "cell_type": "code",
   "execution_count": 17,
   "id": "4722febb",
   "metadata": {},
   "outputs": [
    {
     "name": "stdout",
     "output_type": "stream",
     "text": [
      "0\n",
      "1\n",
      "2\n"
     ]
    }
   ],
   "source": [
    "for i in range(3):\n",
    "    print(i)"
   ]
  },
  {
   "cell_type": "code",
   "execution_count": 18,
   "id": "89b5bd2f",
   "metadata": {},
   "outputs": [
    {
     "name": "stdout",
     "output_type": "stream",
     "text": [
      "1 Natasha Romanoff\n",
      "2 Tony Stark\n",
      "3 Stephen Strange\n"
     ]
    }
   ],
   "source": [
    "for i in range(3):\n",
    "    print(i+1, real_names[i])\n",
    "\n",
    "    #what if you add more names to the list?"
   ]
  },
  {
   "cell_type": "code",
   "execution_count": 19,
   "id": "45e23259",
   "metadata": {},
   "outputs": [
    {
     "data": {
      "text/plain": [
       "5"
      ]
     },
     "execution_count": 19,
     "metadata": {},
     "output_type": "execute_result"
    }
   ],
   "source": [
    "len(real_names)"
   ]
  },
  {
   "cell_type": "code",
   "execution_count": null,
   "id": "6fef4f9c",
   "metadata": {},
   "outputs": [
    {
     "name": "stdout",
     "output_type": "stream",
     "text": [
      "1 Natasha Romanoff\n",
      "2 Tony Stark\n",
      "3 Stephen Strange\n",
      "4 Peter Parker\n",
      "5 Johnny Storm\n"
     ]
    }
   ],
   "source": [
    "for i in range(len(real_names)):\n",
    "    print(i+1, real_names[i])\n",
    "\n",
    "\n",
    "    #so you dont have to manually update the number "
   ]
  },
  {
   "cell_type": "code",
   "execution_count": 59,
   "id": "2af8b809",
   "metadata": {},
   "outputs": [
    {
     "name": "stdout",
     "output_type": "stream",
     "text": [
      "Natasha Romanoff is Marvel's Black Widow!\n",
      "Tony Stark is Marvel's Iron Man!\n",
      "Stephen Strange is Marvel's Doctor Strange!\n"
     ]
    }
   ],
   "source": [
    "for i in range(len(real_names)):\n",
    "    real_name = real_names[i]\n",
    "    super_name = super_names[i]        \n",
    "    print(f\"{real_name} is Marvel's {super_name}!\")\n",
    "\n",
    "    #when u lazy and don wanna change the range number "
   ]
  },
  {
   "attachments": {},
   "cell_type": "markdown",
   "id": "123456",
   "metadata": {},
   "source": [
    "# 2 while"
   ]
  },
  {
   "cell_type": "code",
   "execution_count": null,
   "id": "e21cb1a5",
   "metadata": {},
   "outputs": [],
   "source": [
    "number = 0\n",
    "\n",
    "while number < 5:\n",
    "    print(number)\n",
    "    number += 1"
   ]
  },
  {
   "cell_type": "code",
   "execution_count": 23,
   "id": "04d03fd4",
   "metadata": {},
   "outputs": [
    {
     "name": "stdout",
     "output_type": "stream",
     "text": [
      "0\n",
      "1\n",
      "2\n",
      "3\n",
      "4\n",
      "5\n",
      "6\n",
      "7\n",
      "8\n",
      "9\n"
     ]
    }
   ],
   "source": [
    "i=0\n",
    "while i<10:\n",
    "    print(i)\n",
    "    i += 1"
   ]
  },
  {
   "cell_type": "code",
   "execution_count": null,
   "id": "5023cc88",
   "metadata": {},
   "outputs": [
    {
     "name": "stdout",
     "output_type": "stream",
     "text": [
      "x=1.0000000000 np.sin(x)=0.841 np.tan(x)=1.557\n",
      "x=0.5000000000 np.sin(x)=0.479 np.tan(x)=0.546\n",
      "x=0.2500000000 np.sin(x)=0.247 np.tan(x)=0.255\n",
      "x=0.1250000000 np.sin(x)=0.125 np.tan(x)=0.126\n",
      "x=0.0625000000 np.sin(x)=0.062 np.tan(x)=0.063\n",
      "x=0.0312500000 np.sin(x)=0.031 np.tan(x)=0.031\n",
      "x=0.0156250000 np.sin(x)=0.016 np.tan(x)=0.016\n",
      "x=0.0078125000 np.sin(x)=0.008 np.tan(x)=0.008\n",
      "x=0.0039062500 np.sin(x)=0.004 np.tan(x)=0.004\n",
      "x=0.0019531250 np.sin(x)=0.002 np.tan(x)=0.002\n"
     ]
    }
   ],
   "source": [
    "x = 1\n",
    "import numpy as np\n",
    "while x>1E-3:\n",
    "        print(f'{x=:.10f}', f'{np.sin(x)=:.3f}', f'{np.tan(x)=:.3f}')\n",
    "        x/=2\n",
    "\n",
    "np.isclose\n",
    "\n",
    "#remember the = sign to display the x or the sin(x) in words\n",
    "#also remember to add the np. before the function "
   ]
  }
 ],
 "metadata": {
  "kernelspec": {
   "display_name": "base",
   "language": "python",
   "name": "python3"
  },
  "language_info": {
   "codemirror_mode": {
    "name": "ipython",
    "version": 3
   },
   "file_extension": ".py",
   "mimetype": "text/x-python",
   "name": "python",
   "nbconvert_exporter": "python",
   "pygments_lexer": "ipython3",
   "version": "3.13.5"
  },
  "toc": {
   "base_numbering": 1,
   "nav_menu": {},
   "number_sections": true,
   "sideBar": true,
   "skip_h1_title": false,
   "title_cell": "Table of Contents",
   "title_sidebar": "Contents",
   "toc_cell": false,
   "toc_position": {},
   "toc_section_display": true,
   "toc_window_display": false
  }
 },
 "nbformat": 4,
 "nbformat_minor": 5
}
