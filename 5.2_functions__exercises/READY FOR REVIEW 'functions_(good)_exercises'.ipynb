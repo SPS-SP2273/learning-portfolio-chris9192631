{
 "cells": [
  {
   "attachments": {},
   "cell_type": "markdown",
   "id": "123456",
   "metadata": {},
   "source": [
    "<div style=\"text-align:left;font-size:2em\"><span style=\"font-weight:bolder;font-size:1.25em\">SP2273 | Learning Portfolio</span><br><br><span style=\"font-weight:bold;color:darkred\">Functions (Good) Exercises</span></div>"
   ]
  },
  {
   "cell_type": "markdown",
   "id": "aea09912",
   "metadata": {},
   "source": [
    "**Exercise 1 (Celsius to Fahrenheit or Kelvin)** \n",
    "\n",
    "Develop a function named convert_celsius() to convert temperatures from Celsius to either Fahrenheit or Kelvin.\n",
    "\n",
    "The function should take two arguments:\n",
    "- temperature_celsius: The temperature in Celsius.\n",
    "- target_scale (string): The target scale for conversion, with the default value set to 'Fahrenheit'.\n",
    "\n",
    "\n",
    "The function should return the temperature in Kelvin if target_scale is 'Kelvin'; otherwise, it should return the temperature in Fahrenheit."
   ]
  },
  {
   "cell_type": "code",
   "execution_count": 1,
   "id": "d36c8be5",
   "metadata": {},
   "outputs": [
    {
     "data": {
      "text/plain": [
       "'Temperature in Farenheit is: 131.0°F'"
      ]
     },
     "execution_count": 1,
     "metadata": {},
     "output_type": "execute_result"
    }
   ],
   "source": [
    "def convert_celsius(temperature_celsius, target_scale= 'Farenheit'):\n",
    "    if target_scale == 'Kelvin':\n",
    "        temp_k = temperature_celsius + 273.15\n",
    "        return f'Temperature in Kelvin is: {temp_k} K'\n",
    "    else:\n",
    "        temp_f = temperature_celsius*(9/5) + 32 \n",
    "        return f'Temperature in Farenheit is: {temp_f}°F'\n",
    "\n",
    "convert_celsius(55)\n",
    "\n"
   ]
  },
  {
   "cell_type": "markdown",
   "id": "0c6d07e5",
   "metadata": {},
   "source": [
    "Exercise 2 (Fahrenheit to Celsius or Kelvin) ☻\n",
    "\n",
    "Develop a function called convert_fahrenheit() for converting temperatures from Fahrenheit to either Celsius or Kelvin.\n",
    "\n",
    "The function should take two arguments:\n",
    "temperature_fahrenheit: The temperature in Fahrenheit.\n",
    "\n",
    "target_scale (string): The target scale for conversion, defaulting to 'Celsius'.\n",
    "\n",
    "The function should return the temperature in Kelvin if target_scale is 'Kelvin'; otherwise, return it in Celsius."
   ]
  },
  {
   "cell_type": "code",
   "execution_count": 2,
   "id": "c98b3234",
   "metadata": {},
   "outputs": [
    {
     "data": {
      "text/plain": [
       "'Temperature in Celsius is: 40.00°C'"
      ]
     },
     "execution_count": 2,
     "metadata": {},
     "output_type": "execute_result"
    }
   ],
   "source": [
    "def convert_farenheit(temperature_farenheit, target_scale= 'Celsius'):\n",
    "    if target_scale == 'Kelvin':\n",
    "        temp_k = ((temperature_farenheit - 32)*(5/9)) +273.15\n",
    "        return f'Temperature in Kelvin is: {temp_k:.2f} K'\n",
    "    else:\n",
    "        temp_c = (temperature_farenheit - 32)*(5/9)\n",
    "        return f'Temperature in Celsius is: {temp_c:.2f}°C'\n",
    "\n",
    "convert_farenheit(104)"
   ]
  },
  {
   "cell_type": "markdown",
   "id": "55ea3878",
   "metadata": {},
   "source": [
    "Exercise 3 (General Temperature Conversion) ☻\n",
    "\n",
    "Implement a function named convert_temperature() to perform general temperature conversions.\n",
    "\n",
    "The function should take three arguments:\n",
    "\n",
    "temperature: The temperature to be converted.\n",
    "\n",
    "source_scale (string): The scale of the input \n",
    "\n",
    "temperature (either 'Celsius', 'Fahrenheit', or 'Kelvin').\n",
    "\n",
    "target_scale (string): The desired scale for the output temperature.\n",
    "\n",
    "Remember to reuse your previous functions!"
   ]
  },
  {
   "cell_type": "code",
   "execution_count": 10,
   "id": "682d75cc",
   "metadata": {},
   "outputs": [
    {
     "data": {
      "text/plain": [
       "'Temperature in Celsius is: -196.15°C'"
      ]
     },
     "execution_count": 10,
     "metadata": {},
     "output_type": "execute_result"
    }
   ],
   "source": [
    "def convert_kelvin(temperature_kelvin, target_scale = 'Celsius'):\n",
    "    if target_scale == 'Farenheit':\n",
    "        temp_F2 = ((temperature_kelvin - 273.15)*9/5) + 32\n",
    "        return f'Temperature in Farenheit is: {temp_F2:.2f}°F'\n",
    "    else:\n",
    "        temp_C2 = (temperature_kelvin - 273.15)\n",
    "        return f'Temperature in Celsius is: {temp_C2:.2f}°C'\n",
    "\n",
    "\n",
    "\n",
    "\n",
    "def convert_temperature(temperature, source_scale, target_scale):\n",
    "    if source_scale == 'Celsius':\n",
    "        return convert_celsius(temperature, target_scale)\n",
    "    elif source_scale == 'Farenheit':\n",
    "        return convert_farenheit(temperature, target_scale)\n",
    "    elif source_scale == 'Kelvin':\n",
    "        return convert_kelvin(temperature, target_scale)\n",
    "\n",
    "    \n",
    "convert_temperature(77, 'Kelvin', 'Kelvin')\n",
    "    \n",
    "\n",
    "    \n"
   ]
  },
  {
   "cell_type": "code",
   "execution_count": null,
   "id": "bebb285c",
   "metadata": {},
   "outputs": [],
   "source": []
  }
 ],
 "metadata": {
  "kernelspec": {
   "display_name": "base",
   "language": "python",
   "name": "python3"
  },
  "language_info": {
   "codemirror_mode": {
    "name": "ipython",
    "version": 3
   },
   "file_extension": ".py",
   "mimetype": "text/x-python",
   "name": "python",
   "nbconvert_exporter": "python",
   "pygments_lexer": "ipython3",
   "version": "3.13.5"
  },
  "toc": {
   "base_numbering": 1,
   "nav_menu": {},
   "number_sections": true,
   "sideBar": true,
   "skip_h1_title": false,
   "title_cell": "Table of Contents",
   "title_sidebar": "Contents",
   "toc_cell": false,
   "toc_position": {},
   "toc_section_display": true,
   "toc_window_display": false
  }
 },
 "nbformat": 4,
 "nbformat_minor": 5
}
