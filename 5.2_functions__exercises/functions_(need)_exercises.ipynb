{
 "cells": [
  {
   "attachments": {},
   "cell_type": "markdown",
   "id": "123456",
   "metadata": {},
   "source": [
    "<div style=\"text-align:left;font-size:2em\"><span style=\"font-weight:bolder;font-size:1.25em\">SP2273 | Learning Portfolio</span><br><br><span style=\"font-weight:bold;color:darkred\">Functions (Need) Exercises</span></div>"
   ]
  },
  {
   "cell_type": "markdown",
   "id": "4bde64fa",
   "metadata": {},
   "source": [
    "**Exercise 2**"
   ]
  },
  {
   "cell_type": "code",
   "execution_count": 2,
   "id": "53ac40ac",
   "metadata": {},
   "outputs": [
    {
     "name": "stdout",
     "output_type": "stream",
     "text": [
      "You are obese.\n",
      "None\n"
     ]
    }
   ],
   "source": [
    "def bmi_calculator(weight, height):\n",
    "    bmi = weight/height**2\n",
    "    if bmi < 18.5:\n",
    "        print(\"You are underweight.\")\n",
    "    elif 18.5 <= bmi <= 24.9:\n",
    "        print(\"You are of a normal weight.\")\n",
    "    elif 25 <= bmi <= 29.9:\n",
    "        print(\"You are overweight.\")\n",
    "    else: \n",
    "        print(\"You are obese.\")\n",
    "        \n",
    "print(bmi_calculator(77, 1.6))"
   ]
  },
  {
   "cell_type": "markdown",
   "id": "fc754b69",
   "metadata": {},
   "source": [
    "**Exercise 3**"
   ]
  },
  {
   "cell_type": "markdown",
   "id": "591cce6d",
   "metadata": {},
   "source": [
    "Exercise 3 (Factorials) Write a function that accepts an integer n and returns its factorial. Ensure that your function gracefully handles negative numbers."
   ]
  },
  {
   "cell_type": "markdown",
   "id": "4147e82e",
   "metadata": {},
   "source": [
    "factorial of input"
   ]
  },
  {
   "cell_type": "code",
   "execution_count": 19,
   "id": "7e6d9ae5",
   "metadata": {},
   "outputs": [],
   "source": [
    "import numpy as np"
   ]
  },
  {
   "cell_type": "code",
   "execution_count": 39,
   "id": "1db8caeb",
   "metadata": {},
   "outputs": [
    {
     "data": {
      "text/plain": [
       "30"
      ]
     },
     "execution_count": 39,
     "metadata": {},
     "output_type": "execute_result"
    }
   ],
   "source": [
    "def factorial(input):\n",
    "    if input == 0:\n",
    "        return 'Answer is 1.'\n",
    "    elif input < 0:\n",
    "        return 'Input cannot be negative.'\n",
    "    elif input > 0:\n",
    "        while input>0:\n",
    "            input2 = input -1\n",
    "            return input2*(input)\n",
    "\n",
    "\n",
    "\n",
    "factorial(6)\n",
    "\n",
    "\n"
   ]
  },
  {
   "cell_type": "code",
   "execution_count": null,
   "id": "26a95252",
   "metadata": {},
   "outputs": [],
   "source": [
    "def factorial(input):\n",
    "    while input > 0:\n",
    "        input \n"
   ]
  }
 ],
 "metadata": {
  "kernelspec": {
   "display_name": "base",
   "language": "python",
   "name": "python3"
  },
  "language_info": {
   "codemirror_mode": {
    "name": "ipython",
    "version": 3
   },
   "file_extension": ".py",
   "mimetype": "text/x-python",
   "name": "python",
   "nbconvert_exporter": "python",
   "pygments_lexer": "ipython3",
   "version": "3.13.5"
  },
  "toc": {
   "base_numbering": 1,
   "nav_menu": {},
   "number_sections": true,
   "sideBar": true,
   "skip_h1_title": false,
   "title_cell": "Table of Contents",
   "title_sidebar": "Contents",
   "toc_cell": false,
   "toc_position": {},
   "toc_section_display": true,
   "toc_window_display": false
  }
 },
 "nbformat": 4,
 "nbformat_minor": 5
}
