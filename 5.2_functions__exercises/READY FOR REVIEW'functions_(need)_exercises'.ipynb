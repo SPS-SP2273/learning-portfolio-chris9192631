{
 "cells": [
  {
   "attachments": {},
   "cell_type": "markdown",
   "id": "123456",
   "metadata": {},
   "source": [
    "<div style=\"text-align:left;font-size:2em\"><span style=\"font-weight:bolder;font-size:1.25em\">SP2273 | Learning Portfolio</span><br><br><span style=\"font-weight:bold;color:darkred\">Functions (Need) Exercises</span></div>"
   ]
  },
  {
   "cell_type": "markdown",
   "id": "a437653c",
   "metadata": {},
   "source": [
    "Exercise 1 (Do you know why?) ☻\n",
    "\n",
    "The following code works as expected despite not having an else statement. Please use a Markdown cell to explain why?"
   ]
  },
  {
   "cell_type": "code",
   "execution_count": 3,
   "id": "35c77051",
   "metadata": {},
   "outputs": [
    {
     "data": {
      "text/plain": [
       "'Hello Christen!'"
      ]
     },
     "execution_count": 3,
     "metadata": {},
     "output_type": "execute_result"
    }
   ],
   "source": [
    "def greeting(name):\n",
    "    if name == 'Batman':\n",
    "        return 'Hello Batman! So, nice to meet you!'\n",
    "    return f'Hello {name}!'\n",
    "\n",
    "greeting('Christen')"
   ]
  },
  {
   "cell_type": "code",
   "execution_count": 7,
   "id": "091a816d",
   "metadata": {},
   "outputs": [
    {
     "name": "stdout",
     "output_type": "stream",
     "text": [
      "Hello Batman! So, nice to meet you!\n",
      "Hello Batman!\n"
     ]
    }
   ],
   "source": [
    "def greeting(name):\n",
    "    if name == 'Batman':\n",
    "        print('Hello Batman! So, nice to meet you!')\n",
    "    print(f'Hello {name}!')\n",
    "\n",
    "greeting('Batman')"
   ]
  },
  {
   "cell_type": "markdown",
   "id": "60843b38",
   "metadata": {},
   "source": [
    "Because when the keyword return is used it will jump out of the function with the return value instead of proceeding with the next line of code like in the second cell above. "
   ]
  },
  {
   "cell_type": "markdown",
   "id": "4bde64fa",
   "metadata": {},
   "source": [
    "**Exercise 2**"
   ]
  },
  {
   "cell_type": "code",
   "execution_count": 2,
   "id": "53ac40ac",
   "metadata": {},
   "outputs": [
    {
     "name": "stdout",
     "output_type": "stream",
     "text": [
      "You are obese.\n",
      "None\n"
     ]
    }
   ],
   "source": [
    "def bmi_calculator(weight, height):\n",
    "    bmi = weight/height**2\n",
    "    if bmi < 18.5:\n",
    "        print(\"You are underweight.\")\n",
    "    elif 18.5 <= bmi <= 24.9:\n",
    "        print(\"You are of a normal weight.\")\n",
    "    elif 25 <= bmi <= 29.9:\n",
    "        print(\"You are overweight.\")\n",
    "    else: \n",
    "        print(\"You are obese.\")\n",
    "        \n",
    "print(bmi_calculator(77, 1.6))"
   ]
  },
  {
   "cell_type": "markdown",
   "id": "fc754b69",
   "metadata": {},
   "source": [
    "**Exercise 3**"
   ]
  },
  {
   "cell_type": "markdown",
   "id": "591cce6d",
   "metadata": {},
   "source": [
    "Exercise 3 (Factorials) Write a function that accepts an integer n and returns its factorial. Ensure that your function gracefully handles negative numbers."
   ]
  },
  {
   "cell_type": "markdown",
   "id": "4147e82e",
   "metadata": {},
   "source": [
    "factorial of input"
   ]
  },
  {
   "cell_type": "code",
   "execution_count": 19,
   "id": "7e6d9ae5",
   "metadata": {},
   "outputs": [],
   "source": [
    "import numpy as np"
   ]
  },
  {
   "cell_type": "code",
   "execution_count": null,
   "id": "1db8caeb",
   "metadata": {},
   "outputs": [],
   "source": [
    "def factorial(input):\n",
    "    if input == 0:\n",
    "        return 'Answer is 1.'\n",
    "    elif input < 0:\n",
    "        return 'Input cannot be negative.'\n",
    "    elif input > 0:\n",
    "        while input>0:\n",
    "            input = input =- 1\n",
    "\n",
    "\n",
    "#not very sure how to continue\n",
    "\n",
    "factorial(6)\n",
    "\n",
    "\n"
   ]
  },
  {
   "cell_type": "code",
   "execution_count": null,
   "id": "26a95252",
   "metadata": {},
   "outputs": [],
   "source": [
    "def factorial(input):\n",
    "    while input > 0:\n",
    "        input \n"
   ]
  }
 ],
 "metadata": {
  "kernelspec": {
   "display_name": "base",
   "language": "python",
   "name": "python3"
  },
  "language_info": {
   "codemirror_mode": {
    "name": "ipython",
    "version": 3
   },
   "file_extension": ".py",
   "mimetype": "text/x-python",
   "name": "python",
   "nbconvert_exporter": "python",
   "pygments_lexer": "ipython3",
   "version": "3.13.5"
  },
  "toc": {
   "base_numbering": 1,
   "nav_menu": {},
   "number_sections": true,
   "sideBar": true,
   "skip_h1_title": false,
   "title_cell": "Table of Contents",
   "title_sidebar": "Contents",
   "toc_cell": false,
   "toc_position": {},
   "toc_section_display": true,
   "toc_window_display": false
  }
 },
 "nbformat": 4,
 "nbformat_minor": 5
}
