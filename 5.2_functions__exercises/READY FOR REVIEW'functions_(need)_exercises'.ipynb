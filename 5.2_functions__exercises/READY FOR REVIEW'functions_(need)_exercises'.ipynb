{
 "cells": [
  {
   "attachments": {},
   "cell_type": "markdown",
   "id": "123456",
   "metadata": {},
   "source": [
    "<div style=\"text-align:left;font-size:2em\"><span style=\"font-weight:bolder;font-size:1.25em\">SP2273 | Learning Portfolio</span><br><br><span style=\"font-weight:bold;color:darkred\">Functions (Need) Exercises</span></div>"
   ]
  },
  {
   "cell_type": "markdown",
   "id": "a437653c",
   "metadata": {},
   "source": [
    "Exercise 1 (Do you know why?) ☻\n",
    "\n",
    "The following code works as expected despite not having an else statement. Please use a Markdown cell to explain why?"
   ]
  },
  {
   "cell_type": "code",
   "execution_count": 3,
   "id": "35c77051",
   "metadata": {},
   "outputs": [
    {
     "data": {
      "text/plain": [
       "'Hello Christen!'"
      ]
     },
     "execution_count": 3,
     "metadata": {},
     "output_type": "execute_result"
    }
   ],
   "source": [
    "def greeting(name):\n",
    "    if name == 'Batman':\n",
    "        return 'Hello Batman! So, nice to meet you!'\n",
    "    return f'Hello {name}!'\n",
    "\n",
    "greeting('Christen')"
   ]
  },
  {
   "cell_type": "code",
   "execution_count": 7,
   "id": "091a816d",
   "metadata": {},
   "outputs": [
    {
     "name": "stdout",
     "output_type": "stream",
     "text": [
      "Hello Batman! So, nice to meet you!\n",
      "Hello Batman!\n"
     ]
    }
   ],
   "source": [
    "def greeting(name):\n",
    "    if name == 'Batman':\n",
    "        print('Hello Batman! So, nice to meet you!')\n",
    "    print(f'Hello {name}!')\n",
    "\n",
    "greeting('Batman')"
   ]
  },
  {
   "cell_type": "markdown",
   "id": "60843b38",
   "metadata": {},
   "source": [
    "Because when the keyword return is used it will jump out of the function with the return value instead of proceeding with the next line of code like in the second cell above. "
   ]
  },
  {
   "cell_type": "markdown",
   "id": "4bde64fa",
   "metadata": {},
   "source": [
    "**Exercise 2**"
   ]
  },
  {
   "cell_type": "code",
   "execution_count": 2,
   "id": "53ac40ac",
   "metadata": {},
   "outputs": [
    {
     "name": "stdout",
     "output_type": "stream",
     "text": [
      "You are obese.\n",
      "None\n"
     ]
    }
   ],
   "source": [
    "def bmi_calculator(weight, height):\n",
    "    bmi = weight/height**2\n",
    "    if bmi < 18.5:\n",
    "        print(\"You are underweight.\")\n",
    "    elif 18.5 <= bmi <= 24.9:\n",
    "        print(\"You are of a normal weight.\")\n",
    "    elif 25 <= bmi <= 29.9:\n",
    "        print(\"You are overweight.\")\n",
    "    else: \n",
    "        print(\"You are obese.\")\n",
    "        \n",
    "print(bmi_calculator(77, 1.6))"
   ]
  },
  {
   "cell_type": "markdown",
   "id": "fc754b69",
   "metadata": {},
   "source": [
    "**Exercise 3**"
   ]
  },
  {
   "cell_type": "markdown",
   "id": "591cce6d",
   "metadata": {},
   "source": [
    "Exercise 3 (Factorials) Write a function that accepts an integer n and returns its factorial. Ensure that your function gracefully handles negative numbers."
   ]
  },
  {
   "cell_type": "markdown",
   "id": "4147e82e",
   "metadata": {},
   "source": [
    "factorial of input"
   ]
  },
  {
   "cell_type": "code",
   "execution_count": 19,
   "id": "7e6d9ae5",
   "metadata": {},
   "outputs": [],
   "source": [
    "import numpy as np"
   ]
  },
  {
   "cell_type": "code",
   "execution_count": null,
   "id": "1db8caeb",
   "metadata": {},
   "outputs": [
    {
     "ename": "KeyboardInterrupt",
     "evalue": "",
     "output_type": "error",
     "traceback": [
      "\u001b[31m---------------------------------------------------------------------------\u001b[39m",
      "\u001b[31mKeyboardInterrupt\u001b[39m                         Traceback (most recent call last)",
      "\u001b[36mCell\u001b[39m\u001b[36m \u001b[39m\u001b[32mIn[21]\u001b[39m\u001b[32m, line 15\u001b[39m\n\u001b[32m     11\u001b[39m         \u001b[38;5;28mprint\u001b[39m(result)\n\u001b[32m     13\u001b[39m \u001b[38;5;66;03m#not very sure how to continue\u001b[39;00m\n\u001b[32m---> \u001b[39m\u001b[32m15\u001b[39m \u001b[43mfactorial\u001b[49m\u001b[43m(\u001b[49m\u001b[32;43m6\u001b[39;49m\u001b[43m)\u001b[49m\n",
      "\u001b[36mCell\u001b[39m\u001b[36m \u001b[39m\u001b[32mIn[21]\u001b[39m\u001b[32m, line 8\u001b[39m, in \u001b[36mfactorial\u001b[39m\u001b[34m(input)\u001b[39m\n\u001b[32m      6\u001b[39m     \u001b[38;5;28;01mreturn\u001b[39;00m \u001b[33m'\u001b[39m\u001b[33mInput cannot be negative.\u001b[39m\u001b[33m'\u001b[39m\n\u001b[32m      7\u001b[39m \u001b[38;5;28;01melif\u001b[39;00m \u001b[38;5;28minput\u001b[39m > \u001b[32m0\u001b[39m:\n\u001b[32m----> \u001b[39m\u001b[32m8\u001b[39m     \u001b[38;5;28;01mwhile\u001b[39;00m new>=\u001b[32m1\u001b[39m:\n\u001b[32m      9\u001b[39m         result = \u001b[38;5;28minput\u001b[39m*new\n\u001b[32m     10\u001b[39m         new = \u001b[38;5;28minput\u001b[39m-\u001b[32m1\u001b[39m\n",
      "\u001b[31mKeyboardInterrupt\u001b[39m: "
     ]
    }
   ],
   "source": [
    "def factorial(input):\n",
    "    new = input\n",
    "    if input == 0:\n",
    "        return 'Answer is 1.'\n",
    "    elif input < 0:\n",
    "        return 'Input cannot be negative.'\n",
    "    elif input > 0:\n",
    "        while new>=1:\n",
    "            result = input*new\n",
    "            new = input-1\n",
    "            print(result)\n",
    "\n",
    "#not very sure how to continue\n",
    "\n",
    "factorial(6)\n",
    "\n",
    "\n"
   ]
  },
  {
   "cell_type": "code",
   "execution_count": null,
   "id": "26a95252",
   "metadata": {},
   "outputs": [],
   "source": [
    "def factorial(input):\n",
    "    while input > 0:\n",
    "        input \n"
   ]
  }
 ],
 "metadata": {
  "kernelspec": {
   "display_name": "base",
   "language": "python",
   "name": "python3"
  },
  "language_info": {
   "codemirror_mode": {
    "name": "ipython",
    "version": 3
   },
   "file_extension": ".py",
   "mimetype": "text/x-python",
   "name": "python",
   "nbconvert_exporter": "python",
   "pygments_lexer": "ipython3",
   "version": "3.13.5"
  },
  "toc": {
   "base_numbering": 1,
   "nav_menu": {},
   "number_sections": true,
   "sideBar": true,
   "skip_h1_title": false,
   "title_cell": "Table of Contents",
   "title_sidebar": "Contents",
   "toc_cell": false,
   "toc_position": {},
   "toc_section_display": true,
   "toc_window_display": false
  }
 },
 "nbformat": 4,
 "nbformat_minor": 5
}
