{
 "cells": [
  {
   "attachments": {},
   "cell_type": "markdown",
   "id": "123456",
   "metadata": {},
   "source": [
    "<div style=\"text-align:left;font-size:2em\"><span style=\"font-weight:bolder;font-size:1.25em\">SP2273 | Learning Portfolio</span><br><br><span style=\"font-weight:bold;color:darkred\">Fundamentals (Good)</span></div>"
   ]
  },
  {
   "cell_type": "code",
   "execution_count": 15,
   "id": "faa9fb85",
   "metadata": {},
   "outputs": [],
   "source": [
    "import numpy as np"
   ]
  },
  {
   "cell_type": "markdown",
   "id": "68fc226d",
   "metadata": {},
   "source": [
    "Write out your code in full first and refine later "
   ]
  },
  {
   "attachments": {},
   "cell_type": "markdown",
   "id": "123456",
   "metadata": {},
   "source": [
    "# What to expect in this chapter"
   ]
  },
  {
   "attachments": {},
   "cell_type": "markdown",
   "id": "123456",
   "metadata": {},
   "source": [
    "# 1 There is more to if\n"
   ]
  },
  {
   "cell_type": "code",
   "execution_count": null,
   "id": "278e42c8",
   "metadata": {},
   "outputs": [
    {
     "name": "stdout",
     "output_type": "stream",
     "text": [
      "boooooooo\n"
     ]
    }
   ],
   "source": [
    "name = \"Robin\"\n",
    "\n",
    "if name == \"Batman\":\n",
    "\n",
    "    #Things we do when true\n",
    "    print(\"Wowee!\")\n",
    "    print(\"Wowee!\")\n",
    "    print(\"Wowee!\")\n",
    "    print(\"Wowee!\")\n",
    "    \n",
    "elif name == \"Robin\":\n",
    "    print(\"Hellow sidekick!\")\n",
    "else:\n",
    "    #things we do when false\n",
    "    print(\"boooooooo\")\n",
    "    print(\"boooooooo\")\n",
    "    print(\"boooooooo\")\n",
    "\n",
    "\n"
   ]
  },
  {
   "attachments": {},
   "cell_type": "markdown",
   "id": "123456",
   "metadata": {},
   "source": [
    "# 2 Asking questions"
   ]
  },
  {
   "cell_type": "code",
   "execution_count": 5,
   "id": "5c0f5317",
   "metadata": {},
   "outputs": [
    {
     "data": {
      "text/plain": [
       "False"
      ]
     },
     "execution_count": 5,
     "metadata": {},
     "output_type": "execute_result"
    }
   ],
   "source": [
    "fruits = ['apple', 'banana','cherry', 'pineapple']\n",
    "vegetables = ['carrot', 'broccoli', 'spinach']\n",
    "\n",
    "'kiwi' in fruits and 'app' in 'apple'"
   ]
  },
  {
   "cell_type": "code",
   "execution_count": 6,
   "id": "1c4d30d8",
   "metadata": {},
   "outputs": [
    {
     "data": {
      "text/plain": [
       "True"
      ]
     },
     "execution_count": 6,
     "metadata": {},
     "output_type": "execute_result"
    }
   ],
   "source": [
    "'kale' not in vegetables"
   ]
  },
  {
   "cell_type": "code",
   "execution_count": 8,
   "id": "64f3b94c",
   "metadata": {},
   "outputs": [
    {
     "data": {
      "text/plain": [
       "True"
      ]
     },
     "execution_count": 8,
     "metadata": {},
     "output_type": "execute_result"
    }
   ],
   "source": [
    "'app' in 'apple'"
   ]
  },
  {
   "cell_type": "code",
   "execution_count": 7,
   "id": "ef16e3ed",
   "metadata": {},
   "outputs": [
    {
     "data": {
      "text/plain": [
       "False"
      ]
     },
     "execution_count": 7,
     "metadata": {},
     "output_type": "execute_result"
    }
   ],
   "source": [
    "'apples'>'oranges'\n",
    "\n",
    "#garbage in garbage out. computer just compares the strings as numbers "
   ]
  },
  {
   "attachments": {},
   "cell_type": "markdown",
   "id": "123456",
   "metadata": {},
   "source": [
    "## 2.1 Asking Math questions"
   ]
  },
  {
   "cell_type": "code",
   "execution_count": null,
   "id": "567493b1",
   "metadata": {},
   "outputs": [],
   "source": []
  },
  {
   "attachments": {},
   "cell_type": "markdown",
   "id": "123456",
   "metadata": {},
   "source": [
    "# 3 Python stores information in different formats or types"
   ]
  },
  {
   "cell_type": "markdown",
   "id": "1ba6e86b",
   "metadata": {},
   "source": [
    "If your computer is 64 bit, means it only uses 64 digits to remember whatever you download, so naming it as a float or integer is better for your space\n",
    "\n",
    "numpy also optimises the manipulation of data when you name your data"
   ]
  },
  {
   "cell_type": "code",
   "execution_count": 9,
   "id": "292f4cd5",
   "metadata": {},
   "outputs": [
    {
     "name": "stdout",
     "output_type": "stream",
     "text": [
      "1---<class 'int'>\n"
     ]
    }
   ],
   "source": [
    "x= int(1.234)\n",
    "print(x, type(x), sep='---')"
   ]
  },
  {
   "cell_type": "code",
   "execution_count": 14,
   "id": "52c37349",
   "metadata": {},
   "outputs": [
    {
     "name": "stdout",
     "output_type": "stream",
     "text": [
      "x=1 <class 'int'>\n"
     ]
    }
   ],
   "source": [
    "x= int(1.234)\n",
    "print(f\"{x=}\", type(x))\n",
    "#the extra way of typing it "
   ]
  },
  {
   "cell_type": "code",
   "execution_count": 11,
   "id": "4267a199",
   "metadata": {},
   "outputs": [
    {
     "name": "stdout",
     "output_type": "stream",
     "text": [
      "1.234---<class 'str'>\n"
     ]
    }
   ],
   "source": [
    "x= str(1.234)\n",
    "print(x, type(x), sep='---')"
   ]
  },
  {
   "cell_type": "code",
   "execution_count": 12,
   "id": "cb8d9aa8",
   "metadata": {},
   "outputs": [
    {
     "name": "stdout",
     "output_type": "stream",
     "text": [
      "1.234---<class 'float'>\n"
     ]
    }
   ],
   "source": [
    "x= float(1.234)\n",
    "print(x, type(x), sep='---')"
   ]
  },
  {
   "cell_type": "code",
   "execution_count": 13,
   "id": "75d0b366",
   "metadata": {},
   "outputs": [
    {
     "name": "stdout",
     "output_type": "stream",
     "text": [
      "(1.234+0j)---<class 'complex'>\n"
     ]
    }
   ],
   "source": [
    "x= complex(1.234)\n",
    "print(x, type(x), sep='---')"
   ]
  },
  {
   "cell_type": "code",
   "execution_count": 19,
   "id": "3d13e4bd",
   "metadata": {},
   "outputs": [
    {
     "data": {
      "text/plain": [
       "array([1.234], dtype=float16)"
      ]
     },
     "execution_count": 19,
     "metadata": {},
     "output_type": "execute_result"
    }
   ],
   "source": [
    "np.float16([1.234])"
   ]
  },
  {
   "attachments": {},
   "cell_type": "markdown",
   "id": "123456",
   "metadata": {},
   "source": [
    "# 4 Never compare floats directly"
   ]
  },
  {
   "cell_type": "markdown",
   "id": "18c67d3c",
   "metadata": {},
   "source": [
    "The problem"
   ]
  },
  {
   "attachments": {},
   "cell_type": "markdown",
   "id": "123456",
   "metadata": {},
   "source": [
    "## 4.1 The Problem"
   ]
  },
  {
   "cell_type": "code",
   "execution_count": 20,
   "id": "d8bfc6d5",
   "metadata": {},
   "outputs": [
    {
     "data": {
      "text/plain": [
       "False"
      ]
     },
     "execution_count": 20,
     "metadata": {},
     "output_type": "execute_result"
    }
   ],
   "source": [
    "#dont compare floats \n",
    "a = 0.1\n",
    "a3 = 0.3\n",
    "\n",
    "a*3 == a\n",
    "# how can dis be? Computer cannot do"
   ]
  },
  {
   "attachments": {},
   "cell_type": "markdown",
   "id": "123456",
   "metadata": {},
   "source": [
    "## 4.2 A solution\n"
   ]
  },
  {
   "cell_type": "code",
   "execution_count": 23,
   "id": "99b6d947",
   "metadata": {},
   "outputs": [
    {
     "data": {
      "text/plain": [
       "True"
      ]
     },
     "execution_count": 23,
     "metadata": {},
     "output_type": "execute_result"
    }
   ],
   "source": [
    "#the difference is very small \n",
    "abs(a3-a*3) < 1E-5"
   ]
  },
  {
   "cell_type": "code",
   "execution_count": 24,
   "id": "99761ae0",
   "metadata": {},
   "outputs": [
    {
     "data": {
      "text/plain": [
       "np.True_"
      ]
     },
     "execution_count": 24,
     "metadata": {},
     "output_type": "execute_result"
    }
   ],
   "source": [
    "np.isclose(a*3, a3)\n",
    "\n",
    "#numpy has a package for this also "
   ]
  },
  {
   "attachments": {},
   "cell_type": "markdown",
   "id": "123456",
   "metadata": {},
   "source": [
    "# 5 Combining English and variables"
   ]
  },
  {
   "attachments": {},
   "cell_type": "markdown",
   "id": "123456",
   "metadata": {},
   "source": [
    "## 5.1 Structure of f-strings"
   ]
  },
  {
   "cell_type": "code",
   "execution_count": 25,
   "id": "391a433e",
   "metadata": {},
   "outputs": [
    {
     "name": "stdout",
     "output_type": "stream",
     "text": [
      "The cube of pi to 6 decimal places is 31.006277\n"
     ]
    }
   ],
   "source": [
    "print(f'The cube of pi to 6 decimal places is {np.pi**3:.6f}')"
   ]
  },
  {
   "cell_type": "code",
   "execution_count": 26,
   "id": "11978778",
   "metadata": {},
   "outputs": [
    {
     "name": "stdout",
     "output_type": "stream",
     "text": [
      "The cube of pi to 6 decimal places is 3.100628e+01\n"
     ]
    }
   ],
   "source": [
    "print(f'The cube of pi to 6 decimal places is {np.pi**3:.6e}')"
   ]
  },
  {
   "attachments": {},
   "cell_type": "markdown",
   "id": "123456",
   "metadata": {},
   "source": [
    "# 6 Escape sequences"
   ]
  },
  {
   "cell_type": "code",
   "execution_count": 29,
   "id": "34a8e152",
   "metadata": {},
   "outputs": [
    {
     "name": "stdout",
     "output_type": "stream",
     "text": [
      "Line1-----------Line2--------------Line3\n"
     ]
    }
   ],
   "source": [
    "print('Line1-----------Line2--------------Line3')\n",
    "\n",
    "#careful when using anything with a backslash"
   ]
  },
  {
   "cell_type": "code",
   "execution_count": 31,
   "id": "cb5af0e5",
   "metadata": {},
   "outputs": [
    {
     "name": "stdout",
     "output_type": "stream",
     "text": [
      "Line1\\eLine2\\eLine3\n"
     ]
    }
   ],
   "source": [
    "print('Line1\\\\eLine2\\\\eLine3')\n",
    "\n",
    "#careful when using anything with a backslash\n",
    "# if you want slash use two"
   ]
  },
  {
   "cell_type": "code",
   "execution_count": 30,
   "id": "16152403",
   "metadata": {},
   "outputs": [
    {
     "name": "stdout",
     "output_type": "stream",
     "text": [
      "Line1\n",
      "Line2\n",
      "Line3\n"
     ]
    }
   ],
   "source": [
    "print('Line1\\nLine2\\nLine3')"
   ]
  },
  {
   "cell_type": "code",
   "execution_count": 32,
   "id": "0d7413ae",
   "metadata": {},
   "outputs": [
    {
     "name": "stdout",
     "output_type": "stream",
     "text": [
      "Line1\tLine2\tLine3\n"
     ]
    }
   ],
   "source": [
    "print('Line1\\tLine2\\tLine3')"
   ]
  },
  {
   "attachments": {},
   "cell_type": "markdown",
   "id": "123456",
   "metadata": {},
   "source": [
    "## 6.1 Self-documenting f-strings"
   ]
  },
  {
   "attachments": {},
   "cell_type": "markdown",
   "id": "123456",
   "metadata": {},
   "source": [
    "# 7 Computers read = from Right to Left!"
   ]
  },
  {
   "attachments": {},
   "cell_type": "markdown",
   "id": "123456",
   "metadata": {},
   "source": [
    "# 8 Shorter and Cleaner Code"
   ]
  },
  {
   "attachments": {},
   "cell_type": "markdown",
   "id": "123456",
   "metadata": {},
   "source": [
    "# 9 Python can be a prima-donna."
   ]
  },
  {
   "cell_type": "code",
   "execution_count": 36,
   "id": "0a51f35d",
   "metadata": {},
   "outputs": [
    {
     "name": "stdout",
     "output_type": "stream",
     "text": [
      "\n"
     ]
    }
   ],
   "source": [
    "print()"
   ]
  },
  {
   "attachments": {},
   "cell_type": "markdown",
   "id": "123456",
   "metadata": {},
   "source": [
    "# 10 Best Practices for Scientific Computing"
   ]
  },
  {
   "cell_type": "code",
   "execution_count": 37,
   "id": "c5aa5691",
   "metadata": {},
   "outputs": [],
   "source": [
    "age = 10 #students age\n",
    "student_age = 10"
   ]
  },
  {
   "attachments": {},
   "cell_type": "markdown",
   "id": "123456",
   "metadata": {},
   "source": [
    "# 11 Looking for help"
   ]
  },
  {
   "attachments": {},
   "cell_type": "markdown",
   "id": "123456",
   "metadata": {},
   "source": [
    "## References"
   ]
  },
  {
   "attachments": {},
   "cell_type": "markdown",
   "id": "123456",
   "metadata": {},
   "source": [
    "## Footnotes"
   ]
  }
 ],
 "metadata": {
  "kernelspec": {
   "display_name": "base",
   "language": "python",
   "name": "python3"
  },
  "language_info": {
   "codemirror_mode": {
    "name": "ipython",
    "version": 3
   },
   "file_extension": ".py",
   "mimetype": "text/x-python",
   "name": "python",
   "nbconvert_exporter": "python",
   "pygments_lexer": "ipython3",
   "version": "3.13.5"
  },
  "toc": {
   "base_numbering": 1,
   "nav_menu": {},
   "number_sections": true,
   "sideBar": true,
   "skip_h1_title": false,
   "title_cell": "Table of Contents",
   "title_sidebar": "Contents",
   "toc_cell": false,
   "toc_position": {},
   "toc_section_display": true,
   "toc_window_display": false
  }
 },
 "nbformat": 4,
 "nbformat_minor": 5
}
