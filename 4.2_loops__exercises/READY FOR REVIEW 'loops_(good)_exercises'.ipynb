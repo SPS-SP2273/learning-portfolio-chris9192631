{
 "cells": [
  {
   "attachments": {},
   "cell_type": "markdown",
   "id": "123456",
   "metadata": {},
   "source": [
    "<div style=\"text-align:left;font-size:2em\"><span style=\"font-weight:bolder;font-size:1.25em\">SP2273 | Learning Portfolio</span><br><br><span style=\"font-weight:bold;color:darkred\">Loops (Good) Exercises</span></div>"
   ]
  },
  {
   "cell_type": "code",
   "execution_count": null,
   "id": "874039fd",
   "metadata": {},
   "outputs": [],
   "source": []
  },
  {
   "cell_type": "markdown",
   "id": "a0df3383",
   "metadata": {},
   "source": [
    "**Exercise 1 (Make me an odd list)**\n",
    "\n",
    "With your knowledge of growing lists, use a for loop with range() and continue to generate a list of the squares of the odd integers from 0 to 9.\n",
    "\n",
    "Hint: You can check for ‘evenness’ using number % 2 == 0."
   ]
  },
  {
   "cell_type": "code",
   "execution_count": 1,
   "id": "7ea13d55",
   "metadata": {},
   "outputs": [
    {
     "name": "stdout",
     "output_type": "stream",
     "text": [
      "1.07 μs ± 305 ns per loop (mean ± std. dev. of 7 runs, 100,000 loops each)\n"
     ]
    }
   ],
   "source": [
    "%%timeit \n",
    "\n",
    "for number in range(10):\n",
    "    if number % 2 == 0:\n",
    "        continue\n",
    "    number**2\n",
    "\n"
   ]
  },
  {
   "cell_type": "markdown",
   "id": "c7b4d303",
   "metadata": {},
   "source": [
    "**Exercise 2 (Make me another odd list)**"
   ]
  },
  {
   "cell_type": "code",
   "execution_count": 2,
   "id": "060b2230",
   "metadata": {},
   "outputs": [
    {
     "name": "stdout",
     "output_type": "stream",
     "text": [
      "903 ns ± 21 ns per loop (mean ± std. dev. of 7 runs, 1,000,000 loops each)\n"
     ]
    }
   ],
   "source": [
    "%%timeit\n",
    "\n",
    "[number**2 for number in range(10) if number % 2 != 0]\n"
   ]
  },
  {
   "cell_type": "markdown",
   "id": "c5d7bf13",
   "metadata": {},
   "source": [
    "**Exercise 3 (Time me!)**"
   ]
  },
  {
   "cell_type": "markdown",
   "id": "b662e449",
   "metadata": {},
   "source": [
    "List comprehension is faster by about 1.2x.\n",
    "\n",
    "1.07 μs ± 305 ns per loop (mean ± std. dev. of 7 runs, 100,000 loops each)\n",
    "903 ns ± 21 ns per loop (mean ± std. dev. of 7 runs, 1,000,000 loops each)"
   ]
  },
  {
   "cell_type": "markdown",
   "id": "2ff0bb54",
   "metadata": {},
   "source": [
    "**Exercise 4 (A problem of decay)**\n",
    "The initial quantity of a sample of a radioactive substance is 100 units, and it decays by 5% each year. Use a while loop to determine how long the sample will take to reduce to half its original amount."
   ]
  },
  {
   "cell_type": "code",
   "execution_count": 8,
   "id": "c3cebff9",
   "metadata": {},
   "outputs": [
    {
     "name": "stdout",
     "output_type": "stream",
     "text": [
      "Years: 14, Substance left: 48.77 units\n"
     ]
    }
   ],
   "source": [
    "substance = 100\n",
    "count = 0\n",
    "\n",
    "while substance > 50:\n",
    "    substance = substance*0.95\n",
    "    count += 1\n",
    "\n",
    "\n",
    "print(f'Years: {count}, Substance left: {substance:.2f} units')\n",
    "\n"
   ]
  },
  {
   "cell_type": "markdown",
   "id": "f87627fc",
   "metadata": {},
   "source": [
    "**Exercise 5 (Changes in CO2)**\n",
    "Identify those years that showed an increase of CO\n",
    " of 3 ppm or more compared to the previous year.\n",
    "Please print out these years along with the corresponding change in concentration."
   ]
  },
  {
   "cell_type": "code",
   "execution_count": 3,
   "id": "3c1bc8f0",
   "metadata": {},
   "outputs": [],
   "source": [
    "co2_data = [\n",
    "    (2000, 369.55), (2001, 371.14), (2002, 373.28), \n",
    "    (2003, 375.80), (2004, 377.52), (2005, 379.80), \n",
    "    (2006, 381.90), (2007, 383.79), (2008, 385.60), \n",
    "    (2009, 387.43), (2010, 389.90), (2011, 391.65), \n",
    "    (2012, 393.85), (2013, 396.52), (2014, 398.65),\n",
    "    (2015, 400.83), (2016, 404.24), (2017, 406.55), \n",
    "    (2018, 408.52), (2019, 411.44), (2020, 414.24)\n",
    "]\n"
   ]
  },
  {
   "cell_type": "code",
   "execution_count": null,
   "id": "fce003af",
   "metadata": {},
   "outputs": [
    {
     "name": "stdout",
     "output_type": "stream",
     "text": [
      "2016.0\n",
      "That's it!\n"
     ]
    }
   ],
   "source": [
    "#for year, co2 in co2_data:\n",
    "\n",
    "import numpy as np\n",
    "co2_data = np.array(co2_data)\n",
    "\n",
    "\n",
    "only_co2 = co2_data[:,1]\n",
    "\n",
    "try: \n",
    "    for i in range(len(only_co2)):\n",
    "        if only_co2[i+1] - only_co2[i] > 3:\n",
    "            data = co2_data[i+1]\n",
    "            print(data[0])\n",
    "\n",
    "except: \n",
    "    print(\"That's it!\")\n",
    "\n"
   ]
  },
  {
   "cell_type": "markdown",
   "id": "a9767127",
   "metadata": {},
   "source": []
  },
  {
   "cell_type": "markdown",
   "metadata": {},
   "source": []
  },
  {
   "cell_type": "code",
   "execution_count": null,
   "id": "d9ec030a",
   "metadata": {},
   "outputs": [],
   "source": []
  }
 ],
 "metadata": {
  "kernelspec": {
   "display_name": "base",
   "language": "python",
   "name": "python3"
  },
  "language_info": {
   "codemirror_mode": {
    "name": "ipython",
    "version": 3
   },
   "file_extension": ".py",
   "mimetype": "text/x-python",
   "name": "python",
   "nbconvert_exporter": "python",
   "pygments_lexer": "ipython3",
   "version": "3.13.5"
  },
  "toc": {
   "base_numbering": 1,
   "nav_menu": {},
   "number_sections": true,
   "sideBar": true,
   "skip_h1_title": false,
   "title_cell": "Table of Contents",
   "title_sidebar": "Contents",
   "toc_cell": false,
   "toc_position": {},
   "toc_section_display": true,
   "toc_window_display": false
  }
 },
 "nbformat": 4,
 "nbformat_minor": 5
}
