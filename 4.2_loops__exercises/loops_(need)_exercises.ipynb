{
 "cells": [
  {
   "attachments": {},
   "cell_type": "markdown",
   "id": "123456",
   "metadata": {},
   "source": [
    "<div style=\"text-align:left;font-size:2em\"><span style=\"font-weight:bolder;font-size:1.25em\">SP2273 | Learning Portfolio</span><br><br><span style=\"font-weight:bold;color:darkred\">Loops (Need) Exercises</span></div>"
   ]
  },
  {
   "cell_type": "markdown",
   "id": "15147a6f",
   "metadata": {},
   "source": [
    "**Exercise 1 (Celsius to Fahrenheit)** ☻\n",
    "\n",
    "You are provided with the following list of temperatures in Celsius. Write a quick Python snippet that converts each temperature to Fahrenheit and prints both temperatures as a Celsius, Fahrenheit pair.\n"
   ]
  },
  {
   "cell_type": "code",
   "execution_count": 1,
   "id": "24d04320",
   "metadata": {},
   "outputs": [],
   "source": [
    "import numpy as np"
   ]
  },
  {
   "cell_type": "code",
   "execution_count": 11,
   "id": "e61668c2",
   "metadata": {},
   "outputs": [
    {
     "name": "stdout",
     "output_type": "stream",
     "text": [
      "0 32.0\n",
      "5 41.0\n",
      "10 50.0\n",
      "15 59.0\n",
      "20 68.0\n",
      "25 77.0\n",
      "30 86.0\n",
      "35 95.0\n",
      "40 104.0\n",
      "45 113.0\n",
      "50 122.0\n"
     ]
    }
   ],
   "source": [
    "temperatures_celsius = [\n",
    "    0, 5, 10, 15, 20, 25,\n",
    "    30, 35, 40, 45, 50\n",
    "]\n",
    "\n",
    "array_c = np.array(temperatures_celsius)\n",
    "\n",
    "\n",
    "for i in range (len(array_c)):\n",
    "    print(array_c[i], (array_c[i]*9/5) +32)\n",
    "\n"
   ]
  },
  {
   "cell_type": "markdown",
   "id": "57a725dd",
   "metadata": {},
   "source": [
    "**Exercise 2 (Multiplication Table)**\n",
    "Write a Python snippet that prints a multiplication table (up to 5) for numbers 1 through 5 using nested for loops. The output should be formatted as shown below:"
   ]
  },
  {
   "cell_type": "code",
   "execution_count": 2,
   "id": "1143f92c",
   "metadata": {},
   "outputs": [
    {
     "name": "stdout",
     "output_type": "stream",
     "text": [
      "1:\n",
      "1\t2\t3\t4\t5\t\n",
      "\n",
      "2:\n",
      "2\t4\t6\t8\t10\t\n",
      "\n",
      "3:\n",
      "3\t6\t9\t12\t15\t\n",
      "\n",
      "4:\n",
      "4\t8\t12\t16\t20\t\n",
      "\n",
      "5:\n",
      "5\t10\t15\t20\t25\t\n",
      "\n"
     ]
    }
   ],
   "source": [
    "for number1 in [1,2,3,4,5]:\n",
    "    print(f'{number1}' \":\")\n",
    "    for number in [1, 2, 3,4,5]:\n",
    "        print(f'{number*number1}', end='\\t')\n",
    "    print('\\n')\n",
    "\n",
    "\n",
    "\n",
    "          "
   ]
  },
  {
   "cell_type": "code",
   "execution_count": null,
   "id": "c181dc2c",
   "metadata": {},
   "outputs": [],
   "source": []
  },
  {
   "cell_type": "markdown",
   "id": "93448957",
   "metadata": {},
   "source": [
    "**Exercise 3 (Simulating a Coin Flip Experiment)**"
   ]
  },
  {
   "cell_type": "code",
   "execution_count": 13,
   "id": "a949b6cd",
   "metadata": {},
   "outputs": [],
   "source": [
    "import numpy as np\n"
   ]
  },
  {
   "cell_type": "code",
   "execution_count": 4,
   "id": "4a967b07",
   "metadata": {},
   "outputs": [
    {
     "data": {
      "text/plain": [
       "array([0.01986861, 0.84336938, 0.61590554, 0.11714029, 0.39331939,\n",
       "       0.13244497, 0.50723217, 0.6266808 , 0.3354979 , 0.95242594])"
      ]
     },
     "execution_count": 4,
     "metadata": {},
     "output_type": "execute_result"
    }
   ],
   "source": [
    "np.random.rand(10)"
   ]
  },
  {
   "cell_type": "code",
   "execution_count": null,
   "id": "3b0220a5",
   "metadata": {},
   "outputs": [
    {
     "name": "stdout",
     "output_type": "stream",
     "text": [
      "0\n",
      "0\n",
      "0\n",
      "1\n",
      "0\n",
      "0\n",
      "1\n",
      "0\n",
      "1\n",
      "1\n"
     ]
    }
   ],
   "source": [
    "#for i in range(11):\n",
    "\n",
    "for number in np.random.rand(10):\n",
    "    heads = (number>0.5)\n",
    "    heads = heads.astype(int, copy=True)\n",
    "    print(heads)\n",
    "\n",
    "# i cant sum it \n",
    "\n",
    "   # heads = np.array(heads)\n",
    "    \n",
    "\n",
    "\n",
    "\n",
    "\n",
    "   # print(f'Experiment {i}: No. of Heads = {heads}')\n"
   ]
  },
  {
   "cell_type": "code",
   "execution_count": 30,
   "id": "c2c61524",
   "metadata": {},
   "outputs": [
    {
     "name": "stdout",
     "output_type": "stream",
     "text": [
      "1\n",
      "2\n",
      "3\n"
     ]
    }
   ],
   "source": [
    "heads = 0\n",
    "for number in np.random.rand(10):\n",
    "    if number > 0.5:\n",
    "        heads += 1\n",
    "        print(heads)"
   ]
  },
  {
   "cell_type": "code",
   "execution_count": null,
   "id": "990f55b7",
   "metadata": {},
   "outputs": [],
   "source": []
  }
 ],
 "metadata": {
  "kernelspec": {
   "display_name": "base",
   "language": "python",
   "name": "python3"
  },
  "language_info": {
   "codemirror_mode": {
    "name": "ipython",
    "version": 3
   },
   "file_extension": ".py",
   "mimetype": "text/x-python",
   "name": "python",
   "nbconvert_exporter": "python",
   "pygments_lexer": "ipython3",
   "version": "3.13.5"
  },
  "toc": {
   "base_numbering": 1,
   "nav_menu": {},
   "number_sections": true,
   "sideBar": true,
   "skip_h1_title": false,
   "title_cell": "Table of Contents",
   "title_sidebar": "Contents",
   "toc_cell": false,
   "toc_position": {},
   "toc_section_display": true,
   "toc_window_display": false
  }
 },
 "nbformat": 4,
 "nbformat_minor": 5
}
