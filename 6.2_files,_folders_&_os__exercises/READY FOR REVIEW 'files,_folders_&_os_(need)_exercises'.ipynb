{
 "cells": [
  {
   "attachments": {},
   "cell_type": "markdown",
   "id": "123456",
   "metadata": {},
   "source": [
    "<div style=\"text-align:left;font-size:2em\"><span style=\"font-weight:bolder;font-size:1.25em\">SP2273 | Learning Portfolio</span><br><br><span style=\"font-weight:bold;color:darkred\">Files, Folders & OS (Need) Exercises</span></div>"
   ]
  },
  {
   "cell_type": "markdown",
   "id": "d3178b11",
   "metadata": {},
   "source": [
    "You are a member of an international team analysing environmental pollution. The project involves ten cities: Cairo, Dhaka, Jakarta, Karachi, Manila, Melbourne, Osaka, Shanghai, Singapore, and Tokyo.\n",
    "\n",
    "Your task is to process and organise data from various environmental measurements. The provided zip file, os-collaboration-exercise-data.zip, contains all relevant data files for the past year.\n",
    "\n",
    "Things to note\n",
    "\n",
    "Data Files: Each data file is named in the format month-date_city.txt (e.g., may-10_singapore.txt).\n",
    "Data Collection: Data was recorded sporadically; not all days of each month have corresponding data files. The dates of data collection vary across the cities.\n",
    "Exclusion of Files: Ignore any non-text files, such as those in .pdf, .png, or .jpg formats."
   ]
  },
  {
   "cell_type": "code",
   "execution_count": 1,
   "id": "19e1cfe6",
   "metadata": {},
   "outputs": [],
   "source": [
    "import os"
   ]
  },
  {
   "cell_type": "code",
   "execution_count": 2,
   "id": "7afd88b0",
   "metadata": {},
   "outputs": [],
   "source": [
    "import glob"
   ]
  },
  {
   "cell_type": "code",
   "execution_count": 3,
   "id": "fbccfc69",
   "metadata": {},
   "outputs": [],
   "source": [
    "import shutil"
   ]
  },
  {
   "cell_type": "markdown",
   "id": "e798a450",
   "metadata": {},
   "source": [
    "Task 1:\n",
    "We like to convert the filename to a more useful numerical format. Specifically, we want to convert month-date-city.txt. (i.e. may-10-singapore.txt) to a mm-dd-city.txt (i.e. 05-10-singapore.txt) format.\n",
    "\n",
    "Using the following dictionary (or otherwise), write a snippet of Python code to convert 'oct-08_singapore.txt' to 10-08-singapore.txt."
   ]
  },
  {
   "cell_type": "code",
   "execution_count": 4,
   "id": "406ce113",
   "metadata": {},
   "outputs": [],
   "source": [
    "dictionary = {\n",
    "'jan': '01', 'feb': '02', 'mar': '03',\n",
    "'apr': '04', 'may': '05', 'jun': '06',\n",
    "'jul': '07', 'aug': '08', 'sep': '09',\n",
    "'oct': '10', 'nov': '11', 'dec': '12'\n",
    "}\n",
    "\n",
    "\n"
   ]
  },
  {
   "cell_type": "code",
   "execution_count": 5,
   "id": "ee81f609",
   "metadata": {},
   "outputs": [
    {
     "name": "stdout",
     "output_type": "stream",
     "text": [
      "10-08_singapore.txt\n"
     ]
    },
    {
     "name": "stderr",
     "output_type": "stream",
     "text": [
      "<>:1: SyntaxWarning: invalid escape sequence '\\c'\n",
      "<>:1: SyntaxWarning: invalid escape sequence '\\c'\n",
      "C:\\Users\\chris\\AppData\\Local\\Temp\\ipykernel_26848\\141646229.py:1: SyntaxWarning: invalid escape sequence '\\c'\n",
      "  path = \"C:\\\\Users\\chris\\OneDrive\\Documents\\GitHub\\learning-portfolio-chris9192631\\6.2_files,_folders_&_os__exercises\\os-collaboration-exercise-data\\os-collaboration-exercise-data\\oct-08_singapore.txt\"\n"
     ]
    }
   ],
   "source": [
    "path = \"C:\\\\Users\\chris\\OneDrive\\Documents\\GitHub\\learning-portfolio-chris9192631\\6.2_files,_folders_&_os__exercises\\os-collaboration-exercise-data\\os-collaboration-exercise-data\\oct-08_singapore.txt\"\n",
    "file_name = path.split(os.path.sep)[-1]\n",
    "month, day_city = file_name.split('-')\n",
    "\n",
    "month_number = dictionary[month]\n",
    "new_name = f\"{month_number}-{day_city}\"\n",
    "\n",
    "print(new_name)\n",
    "\n",
    "\n",
    "\n",
    "\n",
    "#month, date, city = file_name\n",
    "#for month == dict.keys():\n",
    "#    os.rename month \n",
    "\n",
    "\n",
    "\n",
    "\n",
    "\n"
   ]
  },
  {
   "cell_type": "markdown",
   "id": "f3d3e09e",
   "metadata": {},
   "source": [
    "Task 2\n",
    "Incorporate your previous code into a function named rename_my_file(old_file_name) that accepts the old filename as the argument and returns the new file name."
   ]
  },
  {
   "cell_type": "code",
   "execution_count": 6,
   "id": "aed82267",
   "metadata": {},
   "outputs": [
    {
     "data": {
      "text/plain": [
       "'10-08_singapore.txt'"
      ]
     },
     "execution_count": 6,
     "metadata": {},
     "output_type": "execute_result"
    }
   ],
   "source": [
    "def rename_my_file(old_file_name):\n",
    "    month, day_city = file_name.split('-')\n",
    "    month_number = dictionary[month]\n",
    "    new_name = f\"{month_number}-{day_city}\"\n",
    "    return new_name\n",
    "\n",
    "rename_my_file('oct-08_singapore.txt')"
   ]
  },
  {
   "cell_type": "markdown",
   "id": "bd9172b0",
   "metadata": {},
   "source": [
    "Task 3:\n",
    "Use a for loop to apply the function rename_my_file() to the file list below."
   ]
  },
  {
   "cell_type": "code",
   "execution_count": 7,
   "id": "3805a7f8",
   "metadata": {},
   "outputs": [],
   "source": [
    "file_list = ['oct-08_singapore.txt', 'jul-10_cairo.txt', 'may-15_dhaka.txt',\n",
    " 'may-13_cairo.txt', 'oct-21_cairo.txt', 'jan-10_singapore.txt',\n",
    " 'jun-20_tokyo.txt', 'aug-06_jakarta.txt', 'dec-21_karachi.txt',\n",
    " 'jan-01_tokyo.txt']"
   ]
  },
  {
   "cell_type": "code",
   "execution_count": 8,
   "id": "72c44570",
   "metadata": {},
   "outputs": [
    {
     "name": "stdout",
     "output_type": "stream",
     "text": [
      "oct-08_singapore.txt ----> 10-08_singapore.txt\n",
      "jul-10_cairo.txt ----> 10-08_singapore.txt\n",
      "may-15_dhaka.txt ----> 10-08_singapore.txt\n",
      "may-13_cairo.txt ----> 10-08_singapore.txt\n",
      "oct-21_cairo.txt ----> 10-08_singapore.txt\n",
      "jan-10_singapore.txt ----> 10-08_singapore.txt\n",
      "jun-20_tokyo.txt ----> 10-08_singapore.txt\n",
      "aug-06_jakarta.txt ----> 10-08_singapore.txt\n",
      "dec-21_karachi.txt ----> 10-08_singapore.txt\n",
      "jan-01_tokyo.txt ----> 10-08_singapore.txt\n"
     ]
    }
   ],
   "source": [
    "for file in file_list:\n",
    "    rename_my_file(file)\n",
    "    print(f'{file} ----> {new_name}')"
   ]
  },
  {
   "cell_type": "markdown",
   "id": "e159cbea",
   "metadata": {},
   "source": [
    "Task 4:\n",
    "With the help of glob, use rename_my_file() to rename all the .txt files in the folder.\n",
    "\n",
    "Note that you might have to adjust your function rename_my_file() to accommodate the already renamed files."
   ]
  },
  {
   "cell_type": "code",
   "execution_count": null,
   "id": "e2eab48a",
   "metadata": {},
   "outputs": [
    {
     "name": "stderr",
     "output_type": "stream",
     "text": [
      "<>:1: SyntaxWarning: invalid escape sequence '\\c'\n",
      "<>:1: SyntaxWarning: invalid escape sequence '\\c'\n",
      "C:\\Users\\chris\\AppData\\Local\\Temp\\ipykernel_26848\\428203688.py:1: SyntaxWarning: invalid escape sequence '\\c'\n",
      "  path = \"C:\\\\Users\\chris\\OneDrive\\Documents\\GitHub\\learning-portfolio-chris9192631\\6.2_files,_folders_&_os__exercises\\os-collaboration-exercise-data\\os-collaboration-exercise-data-legit\"\n"
     ]
    },
    {
     "data": {
      "text/plain": [
       "[]"
      ]
     },
     "execution_count": 12,
     "metadata": {},
     "output_type": "execute_result"
    }
   ],
   "source": [
    "path = \"C:\\\\Users\\chris\\OneDrive\\Documents\\GitHub\\learning-portfolio-chris9192631\\6.2_files,_folders_&_os__exercises\\os-collaboration-exercise-data\\os-collaboration-exercise-data-legit\"\n",
    "pattern_1 = os.path.join(path, \"*.txt\")\n",
    "files_1 = glob.glob(pattern_1)\n",
    "\n",
    "#glob.glob\n",
    "\n",
    "#rename_my_file(glob.glob('/*.txt')) \n",
    "\n",
    "\n",
    "#idk whats happening, doesnt work"
   ]
  },
  {
   "cell_type": "markdown",
   "id": "0bd4fc66",
   "metadata": {},
   "source": [
    "Task 5:\n",
    "Use a for loop to create a folder for each city.\n",
    "The list of cities is provided below for your convenience."
   ]
  },
  {
   "cell_type": "code",
   "execution_count": 86,
   "id": "93b1d959",
   "metadata": {},
   "outputs": [],
   "source": [
    "cities = ['Cairo', 'Dhaka', 'Jakarta', 'Karachi', 'Manila',\n",
    " 'Melbourne', 'Osaka', 'Shanghai', 'Singapore', 'Tokyo']"
   ]
  },
  {
   "cell_type": "code",
   "execution_count": 85,
   "id": "af897d81",
   "metadata": {},
   "outputs": [],
   "source": [
    "shutil.rmtree('cities')"
   ]
  },
  {
   "cell_type": "code",
   "execution_count": 87,
   "id": "59a000b5",
   "metadata": {},
   "outputs": [
    {
     "name": "stdout",
     "output_type": "stream",
     "text": [
      "Creating cities\\Cairo\n",
      "Creating cities\\Dhaka\n",
      "Creating cities\\Jakarta\n",
      "Creating cities\\Karachi\n",
      "Creating cities\\Manila\n",
      "Creating cities\\Melbourne\n",
      "Creating cities\\Osaka\n",
      "Creating cities\\Shanghai\n",
      "Creating cities\\Singapore\n",
      "Creating cities\\Tokyo\n"
     ]
    }
   ],
   "source": [
    "os.mkdir('cities')\n",
    "for city in cities:\n",
    "    path = os.path.join('cities', city)\n",
    "    print(f'Creating {path}')\n",
    "    os.mkdir(path)\n"
   ]
  },
  {
   "cell_type": "markdown",
   "id": "88613fdd",
   "metadata": {},
   "source": [
    "Task 6\n",
    "Use glob to list all the files from Cairo.\n",
    "Now use a for loop and shutil.copy() to copy all the files related to Cairo to the corresponding folder you created."
   ]
  },
  {
   "cell_type": "code",
   "execution_count": 15,
   "id": "bcd89689",
   "metadata": {},
   "outputs": [
    {
     "name": "stderr",
     "output_type": "stream",
     "text": [
      "<>:1: SyntaxWarning: invalid escape sequence '\\c'\n",
      "<>:1: SyntaxWarning: invalid escape sequence '\\c'\n",
      "C:\\Users\\chris\\AppData\\Local\\Temp\\ipykernel_26848\\2018187782.py:1: SyntaxWarning: invalid escape sequence '\\c'\n",
      "  path = \"C:\\\\Users\\chris\\OneDrive\\Documents\\GitHub\\learning-portfolio-chris9192631\\6.2_files,_folders_&_os__exercises\\cities\"\n",
      "C:\\Users\\chris\\AppData\\Local\\Temp\\ipykernel_26848\\2018187782.py:1: SyntaxWarning: invalid escape sequence '\\c'\n",
      "  path = \"C:\\\\Users\\chris\\OneDrive\\Documents\\GitHub\\learning-portfolio-chris9192631\\6.2_files,_folders_&_os__exercises\\cities\"\n"
     ]
    },
    {
     "ename": "FileNotFoundError",
     "evalue": "[Errno 2] No such file or directory: 'C'",
     "output_type": "error",
     "traceback": [
      "\u001b[31m---------------------------------------------------------------------------\u001b[39m",
      "\u001b[31mFileNotFoundError\u001b[39m                         Traceback (most recent call last)",
      "\u001b[36mCell\u001b[39m\u001b[36m \u001b[39m\u001b[32mIn[15]\u001b[39m\u001b[32m, line 6\u001b[39m\n\u001b[32m      4\u001b[39m \u001b[38;5;28;01mfor\u001b[39;00m date \u001b[38;5;129;01min\u001b[39;00m path:\n\u001b[32m      5\u001b[39m     path_to_destination = os.path.join(\u001b[33m'\u001b[39m\u001b[33mCairo\u001b[39m\u001b[33m'\u001b[39m, date)\n\u001b[32m----> \u001b[39m\u001b[32m6\u001b[39m     \u001b[43mshutil\u001b[49m\u001b[43m.\u001b[49m\u001b[43mcopy\u001b[49m\u001b[43m(\u001b[49m\u001b[43mdate\u001b[49m\u001b[43m,\u001b[49m\u001b[43m \u001b[49m\u001b[43mpath_to_destination\u001b[49m\u001b[43m)\u001b[49m\n\u001b[32m      7\u001b[39m     \u001b[38;5;28mprint\u001b[39m(\u001b[33mf\u001b[39m\u001b[33m'\u001b[39m\u001b[33mCopied file to \u001b[39m\u001b[38;5;132;01m{\u001b[39;00mpath_to_destination\u001b[38;5;132;01m}\u001b[39;00m\u001b[33m'\u001b[39m)\n",
      "\u001b[36mFile \u001b[39m\u001b[32mc:\\Users\\chris\\miniconda3\\Lib\\shutil.py:428\u001b[39m, in \u001b[36mcopy\u001b[39m\u001b[34m(src, dst, follow_symlinks)\u001b[39m\n\u001b[32m    426\u001b[39m \u001b[38;5;28;01mif\u001b[39;00m os.path.isdir(dst):\n\u001b[32m    427\u001b[39m     dst = os.path.join(dst, os.path.basename(src))\n\u001b[32m--> \u001b[39m\u001b[32m428\u001b[39m \u001b[43mcopyfile\u001b[49m\u001b[43m(\u001b[49m\u001b[43msrc\u001b[49m\u001b[43m,\u001b[49m\u001b[43m \u001b[49m\u001b[43mdst\u001b[49m\u001b[43m,\u001b[49m\u001b[43m \u001b[49m\u001b[43mfollow_symlinks\u001b[49m\u001b[43m=\u001b[49m\u001b[43mfollow_symlinks\u001b[49m\u001b[43m)\u001b[49m\n\u001b[32m    429\u001b[39m copymode(src, dst, follow_symlinks=follow_symlinks)\n\u001b[32m    430\u001b[39m \u001b[38;5;28;01mreturn\u001b[39;00m dst\n",
      "\u001b[36mFile \u001b[39m\u001b[32mc:\\Users\\chris\\miniconda3\\Lib\\shutil.py:260\u001b[39m, in \u001b[36mcopyfile\u001b[39m\u001b[34m(src, dst, follow_symlinks)\u001b[39m\n\u001b[32m    258\u001b[39m     os.symlink(os.readlink(src), dst)\n\u001b[32m    259\u001b[39m \u001b[38;5;28;01melse\u001b[39;00m:\n\u001b[32m--> \u001b[39m\u001b[32m260\u001b[39m     \u001b[38;5;28;01mwith\u001b[39;00m \u001b[38;5;28;43mopen\u001b[39;49m\u001b[43m(\u001b[49m\u001b[43msrc\u001b[49m\u001b[43m,\u001b[49m\u001b[43m \u001b[49m\u001b[33;43m'\u001b[39;49m\u001b[33;43mrb\u001b[39;49m\u001b[33;43m'\u001b[39;49m\u001b[43m)\u001b[49m \u001b[38;5;28;01mas\u001b[39;00m fsrc:\n\u001b[32m    261\u001b[39m         \u001b[38;5;28;01mtry\u001b[39;00m:\n\u001b[32m    262\u001b[39m             \u001b[38;5;28;01mwith\u001b[39;00m \u001b[38;5;28mopen\u001b[39m(dst, \u001b[33m'\u001b[39m\u001b[33mwb\u001b[39m\u001b[33m'\u001b[39m) \u001b[38;5;28;01mas\u001b[39;00m fdst:\n\u001b[32m    263\u001b[39m                 \u001b[38;5;66;03m# macOS\u001b[39;00m\n",
      "\u001b[31mFileNotFoundError\u001b[39m: [Errno 2] No such file or directory: 'C'"
     ]
    }
   ],
   "source": [
    "path = \"C:\\\\Users\\chris\\OneDrive\\Documents\\GitHub\\learning-portfolio-chris9192631\\6.2_files,_folders_&_os__exercises\\cities\"\n",
    "date = glob.glob('/*Cairo', recursive = True)\n",
    "\n",
    "for date in path:\n",
    "    path_to_destination = os.path.join('Cairo', date)\n",
    "    shutil.copy(date, path_to_destination)\n",
    "    print(f'Copied file to {path_to_destination}')\n",
    "\n",
    "\n",
    "\n"
   ]
  },
  {
   "cell_type": "markdown",
   "id": "10e89e82",
   "metadata": {},
   "source": [
    "Task 7:\n",
    "Tweak your code to move all the files to the corresponding folders of all the cities."
   ]
  },
  {
   "cell_type": "code",
   "execution_count": null,
   "id": "f8a94e64",
   "metadata": {},
   "outputs": [
    {
     "name": "stderr",
     "output_type": "stream",
     "text": [
      "<>:1: SyntaxWarning: invalid escape sequence '\\c'\n",
      "<>:1: SyntaxWarning: invalid escape sequence '\\c'\n",
      "C:\\Users\\chris\\AppData\\Local\\Temp\\ipykernel_26848\\275242882.py:1: SyntaxWarning: invalid escape sequence '\\c'\n",
      "  path = \"C:\\\\Users\\chris\\OneDrive\\Documents\\GitHub\\learning-portfolio-chris9192631\\6.2_files,_folders_&_os__exercises\\cities\"\n",
      "C:\\Users\\chris\\AppData\\Local\\Temp\\ipykernel_26848\\275242882.py:1: SyntaxWarning: invalid escape sequence '\\c'\n",
      "  path = \"C:\\\\Users\\chris\\OneDrive\\Documents\\GitHub\\learning-portfolio-chris9192631\\6.2_files,_folders_&_os__exercises\\cities\"\n"
     ]
    },
    {
     "ename": "FileNotFoundError",
     "evalue": "[Errno 2] No such file or directory: 'C'",
     "output_type": "error",
     "traceback": [
      "\u001b[31m---------------------------------------------------------------------------\u001b[39m",
      "\u001b[31mFileNotFoundError\u001b[39m                         Traceback (most recent call last)",
      "\u001b[36mCell\u001b[39m\u001b[36m \u001b[39m\u001b[32mIn[16]\u001b[39m\u001b[32m, line 6\u001b[39m\n\u001b[32m      4\u001b[39m \u001b[38;5;28;01mfor\u001b[39;00m date \u001b[38;5;129;01min\u001b[39;00m path:\n\u001b[32m      5\u001b[39m     path_to_destination = os.path.join(\u001b[33m'\u001b[39m\u001b[38;5;132;01m{cities}\u001b[39;00m\u001b[33m'\u001b[39m, date)\n\u001b[32m----> \u001b[39m\u001b[32m6\u001b[39m     \u001b[43mshutil\u001b[49m\u001b[43m.\u001b[49m\u001b[43mcopy\u001b[49m\u001b[43m(\u001b[49m\u001b[43mdate\u001b[49m\u001b[43m,\u001b[49m\u001b[43m \u001b[49m\u001b[43mpath_to_destination\u001b[49m\u001b[43m)\u001b[49m\n\u001b[32m      7\u001b[39m     \u001b[38;5;28mprint\u001b[39m(\u001b[33mf\u001b[39m\u001b[33m'\u001b[39m\u001b[33mCopied file to \u001b[39m\u001b[38;5;132;01m{\u001b[39;00mpath_to_destination\u001b[38;5;132;01m}\u001b[39;00m\u001b[33m'\u001b[39m)\n",
      "\u001b[36mFile \u001b[39m\u001b[32mc:\\Users\\chris\\miniconda3\\Lib\\shutil.py:428\u001b[39m, in \u001b[36mcopy\u001b[39m\u001b[34m(src, dst, follow_symlinks)\u001b[39m\n\u001b[32m    426\u001b[39m \u001b[38;5;28;01mif\u001b[39;00m os.path.isdir(dst):\n\u001b[32m    427\u001b[39m     dst = os.path.join(dst, os.path.basename(src))\n\u001b[32m--> \u001b[39m\u001b[32m428\u001b[39m \u001b[43mcopyfile\u001b[49m\u001b[43m(\u001b[49m\u001b[43msrc\u001b[49m\u001b[43m,\u001b[49m\u001b[43m \u001b[49m\u001b[43mdst\u001b[49m\u001b[43m,\u001b[49m\u001b[43m \u001b[49m\u001b[43mfollow_symlinks\u001b[49m\u001b[43m=\u001b[49m\u001b[43mfollow_symlinks\u001b[49m\u001b[43m)\u001b[49m\n\u001b[32m    429\u001b[39m copymode(src, dst, follow_symlinks=follow_symlinks)\n\u001b[32m    430\u001b[39m \u001b[38;5;28;01mreturn\u001b[39;00m dst\n",
      "\u001b[36mFile \u001b[39m\u001b[32mc:\\Users\\chris\\miniconda3\\Lib\\shutil.py:260\u001b[39m, in \u001b[36mcopyfile\u001b[39m\u001b[34m(src, dst, follow_symlinks)\u001b[39m\n\u001b[32m    258\u001b[39m     os.symlink(os.readlink(src), dst)\n\u001b[32m    259\u001b[39m \u001b[38;5;28;01melse\u001b[39;00m:\n\u001b[32m--> \u001b[39m\u001b[32m260\u001b[39m     \u001b[38;5;28;01mwith\u001b[39;00m \u001b[38;5;28;43mopen\u001b[39;49m\u001b[43m(\u001b[49m\u001b[43msrc\u001b[49m\u001b[43m,\u001b[49m\u001b[43m \u001b[49m\u001b[33;43m'\u001b[39;49m\u001b[33;43mrb\u001b[39;49m\u001b[33;43m'\u001b[39;49m\u001b[43m)\u001b[49m \u001b[38;5;28;01mas\u001b[39;00m fsrc:\n\u001b[32m    261\u001b[39m         \u001b[38;5;28;01mtry\u001b[39;00m:\n\u001b[32m    262\u001b[39m             \u001b[38;5;28;01mwith\u001b[39;00m \u001b[38;5;28mopen\u001b[39m(dst, \u001b[33m'\u001b[39m\u001b[33mwb\u001b[39m\u001b[33m'\u001b[39m) \u001b[38;5;28;01mas\u001b[39;00m fdst:\n\u001b[32m    263\u001b[39m                 \u001b[38;5;66;03m# macOS\u001b[39;00m\n",
      "\u001b[31mFileNotFoundError\u001b[39m: [Errno 2] No such file or directory: 'C'"
     ]
    }
   ],
   "source": [
    "path = \"C:\\\\Users\\chris\\OneDrive\\Documents\\GitHub\\learning-portfolio-chris9192631\\6.2_files,_folders_&_os__exercises\\cities\"\n",
    "date = glob.glob('*/cities[]', recursive = True)\n",
    "\n",
    "for date in path:\n",
    "    path_to_destination = os.path.join('{cities}', date)\n",
    "    shutil.copy(date, path_to_destination)\n",
    "    print(f'Copied file to {path_to_destination}')\n"
   ]
  }
 ],
 "metadata": {
  "kernelspec": {
   "display_name": "base",
   "language": "python",
   "name": "python3"
  },
  "language_info": {
   "codemirror_mode": {
    "name": "ipython",
    "version": 3
   },
   "file_extension": ".py",
   "mimetype": "text/x-python",
   "name": "python",
   "nbconvert_exporter": "python",
   "pygments_lexer": "ipython3",
   "version": "3.13.5"
  },
  "toc": {
   "base_numbering": 1,
   "nav_menu": {},
   "number_sections": true,
   "sideBar": true,
   "skip_h1_title": false,
   "title_cell": "Table of Contents",
   "title_sidebar": "Contents",
   "toc_cell": false,
   "toc_position": {},
   "toc_section_display": true,
   "toc_window_display": false
  }
 },
 "nbformat": 4,
 "nbformat_minor": 5
}
